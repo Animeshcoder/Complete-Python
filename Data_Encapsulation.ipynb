{
  "nbformat": 4,
  "nbformat_minor": 0,
  "metadata": {
    "colab": {
      "provenance": [],
      "authorship_tag": "ABX9TyMpfF5ZvIzenEGRjSFLxMXB",
      "include_colab_link": true
    },
    "kernelspec": {
      "name": "python3",
      "display_name": "Python 3"
    },
    "language_info": {
      "name": "python"
    }
  },
  "cells": [
    {
      "cell_type": "markdown",
      "metadata": {
        "id": "view-in-github",
        "colab_type": "text"
      },
      "source": [
        "<a href=\"https://colab.research.google.com/github/Animeshcoder/Complete-Python/blob/main/Data_Encapsulation.ipynb\" target=\"_parent\"><img src=\"https://colab.research.google.com/assets/colab-badge.svg\" alt=\"Open In Colab\"/></a>"
      ]
    },
    {
      "cell_type": "markdown",
      "source": [
        "\n",
        "\n",
        "# **DATA ENCAPSULATION**\n",
        "\n",
        "Encapsulation is one of the fundamental concepts in object-oriented programming (OOP). It describes the idea of wrapping data and the methods that work on data within one unit. This puts restrictions on accessing variables and methods directly and can prevent the accidental modification of data. To prevent accidental change, an object’s variable can only be changed by an object’s method. Those types of variables are known as private variables. A class is an example of encapsulation as it encapsulates all the data that is member functions, variables, etc.\n",
        "\n",
        "In Python, encapsulation can be achieved by declaring the data members and methods of a class either as private or protected. But In Python, we don’t have direct access modifiers like public, private, and protected. We can achieve this by using single underscore and double underscores. Access modifiers limit access to the variables and methods of a class2.\n",
        "\n",
        "Using encapsulation, we can hide an object’s internal representation from the outside. This is called information hiding. Also, encapsulation allows us to restrict accessing variables and methods directly and prevent accidental data modification by creating private data members and methods within a class."
      ],
      "metadata": {
        "id": "ag3SHyijnfHg"
      }
    },
    {
      "cell_type": "markdown",
      "source": [
        "### **What are get and set methods and how to use them?**\n",
        "Here is an example of how you can use get and set methods in a Python class:"
      ],
      "metadata": {
        "id": "J5z0WUJEpFpW"
      }
    },
    {
      "cell_type": "code",
      "source": [
        "class MyClass:\n",
        "    def __init__(self):\n",
        "        self._my_attribute = 0\n",
        "\n",
        "    def get_my_attribute(self):\n",
        "        \"\"\"\n",
        "        This is the get method for the my_attribute property.\n",
        "        \"\"\"\n",
        "        return self._my_attribute\n",
        "\n",
        "    def set_my_attribute(self, value):\n",
        "        \"\"\"\n",
        "        This is the set method for the my_attribute property.\n",
        "        \n",
        "        :param value: The value to set the my_attribute property to.\n",
        "        :type value: Any\n",
        "        \"\"\"\n",
        "        self._my_attribute = value"
      ],
      "metadata": {
        "id": "cVwZhiGUpb15"
      },
      "execution_count": null,
      "outputs": []
    },
    {
      "cell_type": "markdown",
      "source": [
        "In this example, MyClass has an instance variable _my_attribute that is initialized to 0 in the \n",
        "```\n",
        "__init__\n",
        "```\n",
        "method.\n",
        "The get_my_attribute method is the get method for the my_attribute property. It returns the value of _my_attribute.\n",
        "\n",
        "The set_my_attribute method is the set method for the my_attribute property. It sets the value of _my_attribute to the value passed as a parameter.\n",
        "\n",
        "Here is an example of how you can use the get_my_attribute and set_my_attribute methods:"
      ],
      "metadata": {
        "id": "ZXtryroZps5w"
      }
    },
    {
      "cell_type": "code",
      "source": [
        "# Create an instance of MyClass\n",
        "my_instance = MyClass()\n",
        "\n",
        "# Get the value of my_attribute\n",
        "print(my_instance.get_my_attribute()) # 0\n",
        "\n",
        "# Set the value of my_attribute\n",
        "my_instance.set_my_attribute(10)\n",
        "\n",
        "# Get the updated value of my_attribute\n",
        "print(my_instance.get_my_attribute()) # 10"
      ],
      "metadata": {
        "colab": {
          "base_uri": "https://localhost:8080/"
        },
        "id": "G25J-ml0pov6",
        "outputId": "5a95fb3a-69c0-4d12-84b1-2c1e6c7fc801"
      },
      "execution_count": null,
      "outputs": [
        {
          "output_type": "stream",
          "name": "stdout",
          "text": [
            "0\n",
            "10\n"
          ]
        }
      ]
    },
    {
      "cell_type": "markdown",
      "source": [
        "In this example, we create an instance of MyClass and use the get_my_attribute and set_my_attribute methods to get and set the value of my_attribute."
      ],
      "metadata": {
        "id": "5LcoEWdaqDZJ"
      }
    },
    {
      "cell_type": "markdown",
      "source": [
        "### **Public, Private and Protected Methods and Attributes**\n",
        "In Python, encapsulation can be achieved by declaring the data members and methods of a class either as private or protected. But In Python, we don’t have direct access modifiers like public, private, and protected. We can achieve this by using single underscore and double underscores. Access modifiers limit access to the variables and methods of a class.\n",
        "\n",
        "Here is an example of a class that demonstrates encapsulation in Python with private, public, and protected attributes and methods with class and method specifications and precondition assertion"
      ],
      "metadata": {
        "id": "K2X_fbhOq1V9"
      }
    },
    {
      "cell_type": "code",
      "execution_count": null,
      "metadata": {
        "id": "qLaQGrh6mU3A"
      },
      "outputs": [],
      "source": [
        "class Encapsulation:\n",
        "    \"\"\"\n",
        "    This class demonstrates encapsulation in Python with private, public, and protected attributes and methods.\n",
        "    \"\"\"\n",
        "    def __init__(self):\n",
        "        self.public_attribute = \"This is a public attribute\"\n",
        "        self._protected_attribute = \"This is a protected attribute\"\n",
        "        self.__private_attribute = \"This is a private attribute\"\n",
        "\n",
        "    def public_method(self):\n",
        "        \"\"\"\n",
        "        This is a public method.\n",
        "        \"\"\"\n",
        "        print(\"This is a public method.\")\n",
        "\n",
        "    def _protected_method(self):\n",
        "        \"\"\"\n",
        "        This is a protected method.\n",
        "        \"\"\"\n",
        "        print(\"This is a protected method.\")\n",
        "\n",
        "    def __private_method(self):\n",
        "        \"\"\"\n",
        "        This is a private method.\n",
        "        \"\"\"\n",
        "        print(\"This is a private method.\")\n",
        "\n",
        "    def get_private_attribute(self):\n",
        "        \"\"\"\n",
        "        This method returns the value of the private attribute.\n",
        "        \"\"\"\n",
        "        return self.__private_attribute\n",
        "\n",
        "    def set_private_attribute(self, value):\n",
        "        \"\"\"\n",
        "        This method sets the value of the private attribute.\n",
        "        \n",
        "        :param value: The value to set the private attribute to.\n",
        "        :type value: Any\n",
        "        :raises AssertionError: If the value parameter is not an integer.\n",
        "        \"\"\"\n",
        "        \n",
        "        # Check precondition\n",
        "        assert isinstance(value, int), \"Value must be an integer.\"\n",
        "        \n",
        "        self.__private_attribute = value\n",
        "        \n",
        "        # Check invariant\n",
        "        assert isinstance(self.__private_attribute, int), \"Invariant violated: Private attribute must be an integer.\""
      ]
    },
    {
      "cell_type": "markdown",
      "source": [
        "In this example, public_attribute is a public attribute that can be accessed from outside the class. _protected_attribute is a protected attribute that can be accessed from within the class and its subclasses__private_attribute is a private attribute that can only be accessed from within the class.\n",
        "\n",
        "public_method() is a public method that can be accessed from outside the class. _protected_method() is a protected method that can be accessed from within the class and its subclasses__private_method() (you will study it in the part of inheritance) is a private method that can only be accessed from within the class.\n",
        "\n",
        "get_private_attribute() is a public method that returns the value of __private_attribute. set_private_attribute() is a public method that sets the value of __private_attribute. It also has a precondition assertion that checks if the parameter passed to it is an integer"
      ],
      "metadata": {
        "id": "l1X_VB81rGKD"
      }
    },
    {
      "cell_type": "code",
      "source": [
        "# Access of methods and attributes\n",
        "# Create an instance of Encapsulation\n",
        "my_instance = Encapsulation()\n",
        "\n",
        "# Access the public attribute\n",
        "print(my_instance.public_attribute) # This is a public attribute\n",
        "\n",
        "# Access the protected attribute\n",
        "print(my_instance._protected_attribute) # This is a protected attribute\n",
        "\n",
        "# Access the private attribute using the get_private_attribute method\n",
        "print(my_instance.get_private_attribute()) # This is a private attribute\n",
        "\n",
        "# Set the value of the private attribute using the set_private_attribute method\n",
        "my_instance.set_private_attribute(10)\n",
        "\n",
        "# Get the updated value of the private attribute using the get_private_attribute method\n",
        "print(my_instance.get_private_attribute()) # 10\n",
        "\n",
        "# Call the public method\n",
        "my_instance.public_method() # This is a public method.\n",
        "\n",
        "# Call the protected method\n",
        "my_instance._protected_method() # This is a protected method."
      ],
      "metadata": {
        "colab": {
          "base_uri": "https://localhost:8080/"
        },
        "id": "Pfa7E6kGsldt",
        "outputId": "fd434f1f-93b0-4ba7-8b24-8c7489a544f3"
      },
      "execution_count": null,
      "outputs": [
        {
          "output_type": "stream",
          "name": "stdout",
          "text": [
            "This is a public attribute\n",
            "This is a protected attribute\n",
            "This is a private attribute\n",
            "10\n",
            "This is a public method.\n",
            "This is a protected method.\n"
          ]
        }
      ]
    },
    {
      "cell_type": "markdown",
      "source": [
        "***How to use private methods and attributes outside?***\n",
        "\n",
        "In Python, private methods are defined by prefixing the method name with two underscores (__). Private methods are intended to be accessed only from within the class and are not meant to be called from outside the class.\n",
        "\n",
        "However, it is still possible to call a private method from outside the class by using name mangling. When a method is defined with two underscores, its name is mangled by adding a _classname prefix to it. For example, in the Encapsulation class that I provided earlier, the __private_method method is mangled to\n",
        "\n",
        "```\n",
        " _Encapsulation__private_method\n",
        "```\n",
        "Here is an example of how you can call the private method of the Encapsulation class using name mangling:"
      ],
      "metadata": {
        "id": "cBW3XEFqtTPS"
      }
    },
    {
      "cell_type": "code",
      "source": [
        "# Create an instance of Encapsulation\n",
        "my_instance = Encapsulation()\n",
        "\n",
        "# Call the private method using name mangling\n",
        "my_instance._Encapsulation__private_method() # This is a private method."
      ],
      "metadata": {
        "colab": {
          "base_uri": "https://localhost:8080/"
        },
        "id": "wPh0Y58tslLO",
        "outputId": "22043f60-833f-46cc-8e9c-fcfb65c0b50d"
      },
      "execution_count": null,
      "outputs": [
        {
          "output_type": "stream",
          "name": "stdout",
          "text": [
            "This is a private method.\n"
          ]
        }
      ]
    },
    {
      "cell_type": "markdown",
      "source": [
        "**REMARK :** It’s important to note that calling private methods from outside the class using name mangling is generally considered bad practice and should be avoided. Private methods are intended to be used only within the class and accessing them from outside the class can break encapsulation."
      ],
      "metadata": {
        "id": "m4W3qaVut2bP"
      }
    },
    {
      "cell_type": "markdown",
      "source": [
        "### **@property decorators for getters and setters :**\n",
        "t’s important to note that calling private methods from outside the class using name mangling is generally considered bad practice and should be avoided. Private methods are intended to be used only within the class and accessing them from outside the class can break encapsulation."
      ],
      "metadata": {
        "id": "w2o4xoGMu0cU"
      }
    },
    {
      "cell_type": "code",
      "source": [
        "class MyClass:\n",
        "    def __init__(self):\n",
        "        self._my_attribute = 0\n",
        "\n",
        "    @property\n",
        "    def my_attribute(self):\n",
        "        \"\"\"\n",
        "        This is the getter method for the my_attribute property.\n",
        "        \"\"\"\n",
        "        return self._my_attribute\n",
        "\n",
        "    @my_attribute.setter\n",
        "    def my_attribute(self, value):\n",
        "        \"\"\"\n",
        "        This is the setter method for the my_attribute property.\n",
        "        \n",
        "        :param value: The value to set the my_attribute property to.\n",
        "        :type value: Any\n",
        "        \"\"\"\n",
        "        self._my_attribute = value"
      ],
      "metadata": {
        "id": "bL6qkwx2t15r"
      },
      "execution_count": null,
      "outputs": []
    },
    {
      "cell_type": "markdown",
      "source": [
        "In this example, MyClass has an instance variable _my_attribute that is initialized to 0 in the __init__ method. The my_attribute property is defined using the @property decorator. The my_attribute method is the getter method for the my_attribute property. It returns the value of _my_attribute.\n",
        "\n",
        "The setter method for the my_attribute property is defined using the @my_attribute.setter decorator. The my_attribute method is the setter method for the my_attribute property. It sets the value of _my_attribute to the value passed as a parameter.\n",
        "\n",
        "Here is an example of how you can use the my_attribute property:"
      ],
      "metadata": {
        "id": "1V6jZOSMvK7W"
      }
    },
    {
      "cell_type": "code",
      "source": [
        "# Create an instance of MyClass\n",
        "my_instance = MyClass()\n",
        "\n",
        "# Get the value of my_attribute\n",
        "print(my_instance.my_attribute) # 0\n",
        "\n",
        "# Set the value of my_attribute\n",
        "my_instance.my_attribute = 10\n",
        "\n",
        "# Get the updated value of my_attribute\n",
        "print(my_instance.my_attribute) # 10"
      ],
      "metadata": {
        "colab": {
          "base_uri": "https://localhost:8080/"
        },
        "id": "GmOGm4sivUyD",
        "outputId": "e7ff3324-78b8-45bc-a59d-3dc11aff69a3"
      },
      "execution_count": null,
      "outputs": [
        {
          "output_type": "stream",
          "name": "stdout",
          "text": [
            "0\n",
            "10\n"
          ]
        }
      ]
    },
    {
      "cell_type": "markdown",
      "source": [
        "## **Immutabe And Mutable Attributes**\n",
        "In Python, you can use both mutable and immutable attributes in a class. Mutable attributes are attributes whose value can be changed, while immutable attributes are attributes whose value cannot be changed once they are set.\n",
        "\n",
        "Here is an example of a Python class that uses both mutable and immutable attributes:"
      ],
      "metadata": {
        "id": "9VpB630Bzetd"
      }
    },
    {
      "cell_type": "code",
      "source": [
        "class MyClass:\n",
        "    def __init__(self):\n",
        "        self._mutable_attribute = [1, 2, 3]\n",
        "        self._immutable_attribute = (4, 5, 6)\n",
        "\n",
        "    @property\n",
        "    def mutable_attribute(self):\n",
        "        return self._mutable_attribute\n",
        "\n",
        "    @mutable_attribute.setter\n",
        "    def mutable_attribute(self, value):\n",
        "        self._mutable_attribute = value\n",
        "\n",
        "    @property\n",
        "    def immutable_attribute(self):\n",
        "        return self._immutable_attribute\n",
        "\n",
        "    @immutable_attribute.setter\n",
        "    def immutable_attribute(self, value):\n",
        "        raise AttributeError(\"Immutable attribute cannot be reassigned\")"
      ],
      "metadata": {
        "id": "ic_KvfZhzz-L"
      },
      "execution_count": null,
      "outputs": []
    },
    {
      "cell_type": "markdown",
      "source": [
        "In this updated version of MyClass, the mutable_attribute and immutable_attribute attributes are made private by prefixing their names with an underscore (_). Getter and setter methods are provided for both attributes using the @property and @property_name.setter decorators.\n",
        "\n",
        "The setter method for the immutable_attribute property raises an AttributeError with the message “Immutable attribute cannot be reassigned” when called. This prevents the value of immutable_attribute from being reassigned.\n",
        "\n",
        "Here is an example of how you can use the updated version of MyClass:"
      ],
      "metadata": {
        "id": "UPzPqxNCz6zz"
      }
    },
    {
      "cell_type": "code",
      "source": [
        "# Create an instance of MyClass\n",
        "my_instance = MyClass()\n",
        "\n",
        "# Access the mutable attribute using the getter method\n",
        "print(my_instance.mutable_attribute) # [1, 2, 3]\n",
        "\n",
        "# Change the value of the mutable attribute using the setter method\n",
        "my_instance.mutable_attribute.append(4)\n",
        "print(my_instance.mutable_attribute) # [1, 2, 3, 4]\n",
        "\n",
        "# Access the immutable attribute using the getter method\n",
        "print(my_instance.immutable_attribute) # (4, 5, 6)\n",
        "\n",
        "# Try to reassign the immutable attribute using the setter method\n",
        "my_instance.immutable_attribute = 10 # AttributeError: Immutable attribute cannot be reassigned"
      ],
      "metadata": {
        "colab": {
          "base_uri": "https://localhost:8080/",
          "height": 339
        },
        "id": "St_fEl0tz6P4",
        "outputId": "e3010fad-24c6-44a2-8c4d-ccd8f2342a02"
      },
      "execution_count": null,
      "outputs": [
        {
          "output_type": "stream",
          "name": "stdout",
          "text": [
            "[1, 2, 3]\n",
            "[1, 2, 3, 4]\n",
            "(4, 5, 6)\n"
          ]
        },
        {
          "output_type": "error",
          "ename": "AttributeError",
          "evalue": "ignored",
          "traceback": [
            "\u001b[0;31m---------------------------------------------------------------------------\u001b[0m",
            "\u001b[0;31mAttributeError\u001b[0m                            Traceback (most recent call last)",
            "\u001b[0;32m<ipython-input-13-a4edd9acc82e>\u001b[0m in \u001b[0;36m<cell line: 15>\u001b[0;34m()\u001b[0m\n\u001b[1;32m     13\u001b[0m \u001b[0;34m\u001b[0m\u001b[0m\n\u001b[1;32m     14\u001b[0m \u001b[0;31m# Try to reassign the immutable attribute using the setter method\u001b[0m\u001b[0;34m\u001b[0m\u001b[0;34m\u001b[0m\u001b[0m\n\u001b[0;32m---> 15\u001b[0;31m \u001b[0mmy_instance\u001b[0m\u001b[0;34m.\u001b[0m\u001b[0mimmutable_attribute\u001b[0m \u001b[0;34m=\u001b[0m \u001b[0;36m10\u001b[0m \u001b[0;31m# AttributeError: Immutable attribute cannot be reassigned\u001b[0m\u001b[0;34m\u001b[0m\u001b[0;34m\u001b[0m\u001b[0m\n\u001b[0m",
            "\u001b[0;32m<ipython-input-12-c0b51eb84dbd>\u001b[0m in \u001b[0;36mimmutable_attribute\u001b[0;34m(self, value)\u001b[0m\n\u001b[1;32m     18\u001b[0m     \u001b[0;34m@\u001b[0m\u001b[0mimmutable_attribute\u001b[0m\u001b[0;34m.\u001b[0m\u001b[0msetter\u001b[0m\u001b[0;34m\u001b[0m\u001b[0;34m\u001b[0m\u001b[0m\n\u001b[1;32m     19\u001b[0m     \u001b[0;32mdef\u001b[0m \u001b[0mimmutable_attribute\u001b[0m\u001b[0;34m(\u001b[0m\u001b[0mself\u001b[0m\u001b[0;34m,\u001b[0m \u001b[0mvalue\u001b[0m\u001b[0;34m)\u001b[0m\u001b[0;34m:\u001b[0m\u001b[0;34m\u001b[0m\u001b[0;34m\u001b[0m\u001b[0m\n\u001b[0;32m---> 20\u001b[0;31m         \u001b[0;32mraise\u001b[0m \u001b[0mAttributeError\u001b[0m\u001b[0;34m(\u001b[0m\u001b[0;34m\"Immutable attribute cannot be reassigned\"\u001b[0m\u001b[0;34m)\u001b[0m\u001b[0;34m\u001b[0m\u001b[0;34m\u001b[0m\u001b[0m\n\u001b[0m",
            "\u001b[0;31mAttributeError\u001b[0m: Immutable attribute cannot be reassigned"
          ]
        }
      ]
    },
    {
      "cell_type": "markdown",
      "source": [
        "### **Some Inbuilt Features:**\n",
        "__init__: This method is called when an object of the class is created. It initializes the attributes of the object.\n",
        "\n",
        "__str__: This method returns a string representation of the object.\n",
        "\n",
        "__dict__: This method returns a dictionary containing the attributes of the object.\n",
        "\n",
        "setattr: This method sets the value of an attribute of the object.\n",
        "\n",
        "getattr: This method gets the value of an attribute of the object.\n",
        "\n",
        "delattr: This method deletes an attribute of the object.\n",
        "\n",
        "hasattr: This method checks if an attribute exists in the object."
      ],
      "metadata": {
        "id": "1oq-QXUypvTm"
      }
    },
    {
      "cell_type": "code",
      "source": [
        "class Example:\n",
        "    def __init__(self, name, age):\n",
        "        self.name = name\n",
        "        self.age = age\n",
        "\n",
        "    def __str__(self):\n",
        "        return f\"{self.name} is {self.age} years old.\"\n",
        "\n",
        "    def setattr(self, key, value):\n",
        "        setattr(self, key, value)\n",
        "\n",
        "    def getattr(self, key):\n",
        "        return getattr(self, key)\n",
        "\n",
        "    def delattr(self, key):\n",
        "        delattr(self, key)\n",
        "\n",
        "    def hasattr(self, key):\n",
        "        return hasattr(self, key)"
      ],
      "metadata": {
        "id": "QyVReFZip2wU"
      },
      "execution_count": null,
      "outputs": []
    },
    {
      "cell_type": "code",
      "source": [
        "# Create an object of the Example class\n",
        "example = Example(\"John\", 25)\n",
        "\n",
        "# Check if the object has an attribute 'name'\n",
        "print(example.hasattr(\"name\"))  # True\n",
        "\n",
        "# Get the value of the attribute 'name'\n",
        "print(example.getattr(\"name\"))  # John\n",
        "\n",
        "# Set the value of the attribute 'name' to 'Jane'\n",
        "example.setattr(\"name\", \"Jane\")\n",
        "\n",
        "# Get the value of the attribute 'name' again to see if it changed\n",
        "print(example.getattr(\"name\"))  # Jane\n",
        "\n",
        "# Delete the attribute 'name'\n",
        "example.delattr(\"name\")\n",
        "\n",
        "# Check if the object still has an attribute 'name'\n",
        "print(example.hasattr(\"name\"))  # False\n",
        "\n",
        "# Get a dictionary containing all the attributes of the object\n",
        "print(example.__dict__)  # {'age': 25}"
      ],
      "metadata": {
        "colab": {
          "base_uri": "https://localhost:8080/"
        },
        "id": "1ZfG53CWqNp2",
        "outputId": "c7ca693d-fa00-4a68-9a36-22e16873f2ee"
      },
      "execution_count": null,
      "outputs": [
        {
          "output_type": "stream",
          "name": "stdout",
          "text": [
            "True\n",
            "John\n",
            "Jane\n",
            "False\n",
            "{'age': 25}\n"
          ]
        }
      ]
    },
    {
      "cell_type": "markdown",
      "source": [
        "### **Some Good Examples For Better Understanding.**"
      ],
      "metadata": {
        "id": "F3PlLlpKvmhb"
      }
    },
    {
      "cell_type": "code",
      "source": [
        "class Demo:\n",
        "    def __init__(self):\n",
        "        self.a = 1\n",
        "        self.__b = 1\n",
        " \n",
        "    def display(self):\n",
        "        return self.__b\n",
        "obj = Demo()\n",
        "print(obj.a)"
      ],
      "metadata": {
        "colab": {
          "base_uri": "https://localhost:8080/"
        },
        "id": "DeaO7wSQwLy7",
        "outputId": "a220fa04-5ce6-4cc5-ae3e-512e042b849e"
      },
      "execution_count": null,
      "outputs": [
        {
          "output_type": "stream",
          "name": "stdout",
          "text": [
            "1\n"
          ]
        }
      ]
    },
    {
      "cell_type": "code",
      "source": [
        "class Demo:\n",
        "    def __init__(self):\n",
        "        self.a = 1\n",
        "        self.__b = 1\n",
        " \n",
        "    def display(self):\n",
        "        return self.__b\n",
        " \n",
        "obj = Demo()\n",
        "print(obj.__b)\n",
        "# The program has an error because b is private and hence can’t be printed"
      ],
      "metadata": {
        "colab": {
          "base_uri": "https://localhost:8080/",
          "height": 200
        },
        "id": "tVWPoQIdwN19",
        "outputId": "846d9048-f09b-42ad-90ed-190c10608621"
      },
      "execution_count": null,
      "outputs": [
        {
          "output_type": "error",
          "ename": "AttributeError",
          "evalue": "ignored",
          "traceback": [
            "\u001b[0;31m---------------------------------------------------------------------------\u001b[0m",
            "\u001b[0;31mAttributeError\u001b[0m                            Traceback (most recent call last)",
            "\u001b[0;32m<ipython-input-9-fbf29a73a5bb>\u001b[0m in \u001b[0;36m<cell line: 10>\u001b[0;34m()\u001b[0m\n\u001b[1;32m      8\u001b[0m \u001b[0;34m\u001b[0m\u001b[0m\n\u001b[1;32m      9\u001b[0m \u001b[0mobj\u001b[0m \u001b[0;34m=\u001b[0m \u001b[0mDemo\u001b[0m\u001b[0;34m(\u001b[0m\u001b[0;34m)\u001b[0m\u001b[0;34m\u001b[0m\u001b[0;34m\u001b[0m\u001b[0m\n\u001b[0;32m---> 10\u001b[0;31m \u001b[0mprint\u001b[0m\u001b[0;34m(\u001b[0m\u001b[0mobj\u001b[0m\u001b[0;34m.\u001b[0m\u001b[0m__b\u001b[0m\u001b[0;34m)\u001b[0m\u001b[0;34m\u001b[0m\u001b[0;34m\u001b[0m\u001b[0m\n\u001b[0m",
            "\u001b[0;31mAttributeError\u001b[0m: 'Demo' object has no attribute '__b'"
          ]
        }
      ]
    },
    {
      "cell_type": "code",
      "source": [
        "class Demo:\n",
        "     def __init__(self):\n",
        "         self.a = 1\n",
        "         self.__b = 1\n",
        " \n",
        "     def get(self):\n",
        "         return self.__b\n",
        " \n",
        "obj = Demo()\n",
        "print(obj.get())"
      ],
      "metadata": {
        "colab": {
          "base_uri": "https://localhost:8080/"
        },
        "id": "QuN9jzRLwW0y",
        "outputId": "deb3f2b0-c222-42d9-f3fa-a1a2e90392d8"
      },
      "execution_count": null,
      "outputs": [
        {
          "output_type": "stream",
          "name": "stdout",
          "text": [
            "1\n"
          ]
        }
      ]
    },
    {
      "cell_type": "code",
      "source": [
        "class objects:\n",
        "    def __init__(self):\n",
        "        self.colour = None\n",
        "        self._shape = \"Circle\" \n",
        " \n",
        "    def display(self, s):\n",
        "        self._shape = s\n",
        "obj=objects()\n",
        "print(obj._objects_shape)\n",
        "# Error because the member shape is a protected member and mangaling is defind only for private."
      ],
      "metadata": {
        "colab": {
          "base_uri": "https://localhost:8080/",
          "height": 200
        },
        "id": "ou1_k3kbxCC1",
        "outputId": "1d9de25f-f63b-4212-e3d6-a4564ae81273"
      },
      "execution_count": null,
      "outputs": [
        {
          "output_type": "error",
          "ename": "AttributeError",
          "evalue": "ignored",
          "traceback": [
            "\u001b[0;31m---------------------------------------------------------------------------\u001b[0m",
            "\u001b[0;31mAttributeError\u001b[0m                            Traceback (most recent call last)",
            "\u001b[0;32m<ipython-input-11-8ecb3e4a8673>\u001b[0m in \u001b[0;36m<cell line: 9>\u001b[0;34m()\u001b[0m\n\u001b[1;32m      7\u001b[0m         \u001b[0mself\u001b[0m\u001b[0;34m.\u001b[0m\u001b[0m_shape\u001b[0m \u001b[0;34m=\u001b[0m \u001b[0ms\u001b[0m\u001b[0;34m\u001b[0m\u001b[0;34m\u001b[0m\u001b[0m\n\u001b[1;32m      8\u001b[0m \u001b[0mobj\u001b[0m\u001b[0;34m=\u001b[0m\u001b[0mobjects\u001b[0m\u001b[0;34m(\u001b[0m\u001b[0;34m)\u001b[0m\u001b[0;34m\u001b[0m\u001b[0;34m\u001b[0m\u001b[0m\n\u001b[0;32m----> 9\u001b[0;31m \u001b[0mprint\u001b[0m\u001b[0;34m(\u001b[0m\u001b[0mobj\u001b[0m\u001b[0;34m.\u001b[0m\u001b[0m_objects_shape\u001b[0m\u001b[0;34m)\u001b[0m\u001b[0;34m\u001b[0m\u001b[0;34m\u001b[0m\u001b[0m\n\u001b[0m",
            "\u001b[0;31mAttributeError\u001b[0m: 'objects' object has no attribute '_objects_shape'"
          ]
        }
      ]
    },
    {
      "cell_type": "markdown",
      "source": [
        "### **Some Coding Questions For Practice**"
      ],
      "metadata": {
        "id": "6H-nKPF7xX_l"
      }
    },
    {
      "cell_type": "markdown",
      "source": [
        "Here are some coding questions on encapsulation in Python:\n",
        "\n",
        "1. Write a Python class that demonstrates encapsulation by using private and public attributes and methods. Include a constructor, getter and setter methods, and a method that prints the values of the attributes.\n",
        "\n",
        "2. Write a Python class that represents a bank account. The class should have private attributes for the account number, account holder name, and balance. Include methods for depositing and withdrawing money, as well as a method for displaying the account details. Use encapsulation to ensure that the balance cannot be set to a negative value.\n",
        "\n",
        "3. Write a Python class that represents a rectangle. The class should have private attributes for the length and width of the rectangle. Include methods for calculating the area and perimeter of the rectangle, as well as getter and setter methods for the length and width attributes. Use encapsulation to ensure that the length and width cannot be set to negative values.\n",
        "\n",
        "4. Write a Python class that represents a circle. The class should have a private attribute for the radius of the circle. Include methods for calculating the area and circumference of the circle, as well as a getter and setter method for the radius attribute. Use encapsulation to ensure that the radius cannot be set to a negative value."
      ],
      "metadata": {
        "id": "K_TLMGyAxkOR"
      }
    }
  ]
}