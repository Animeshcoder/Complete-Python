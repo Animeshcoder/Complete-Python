{
  "nbformat": 4,
  "nbformat_minor": 0,
  "metadata": {
    "colab": {
      "provenance": [],
      "toc_visible": true,
      "authorship_tag": "ABX9TyMOUjuRxRwhCl6BqQm/JEP+",
      "include_colab_link": true
    },
    "kernelspec": {
      "name": "python3",
      "display_name": "Python 3"
    },
    "language_info": {
      "name": "python"
    }
  },
  "cells": [
    {
      "cell_type": "markdown",
      "metadata": {
        "id": "view-in-github",
        "colab_type": "text"
      },
      "source": [
        "<a href=\"https://colab.research.google.com/github/Animeshcoder/Complete-Python/blob/main/Classes.ipynb\" target=\"_parent\"><img src=\"https://colab.research.google.com/assets/colab-badge.svg\" alt=\"Open In Colab\"/></a>"
      ]
    },
    {
      "cell_type": "markdown",
      "source": [],
      "metadata": {
        "id": "R9hmX7UMq093"
      }
    },
    {
      "cell_type": "markdown",
      "source": [
        "## **CLASSES**\n",
        " A class is a tool, like a blueprint or a template, for creating objects. It allows us to bundle data and functionality together. Since everything is an object, to create anything, in Python, we need classes."
      ],
      "metadata": {
        "id": "mjjwuvBXq5qi"
      }
    },
    {
      "cell_type": "code",
      "execution_count": null,
      "metadata": {
        "id": "l8cpBi5Kq0Lv"
      },
      "outputs": [],
      "source": [
        "# Representation of Class\n",
        "class classname(object): # starts from class keyword\n",
        " \"\"\"Class specification\"\"\"\n",
        " #<function definitions>\n",
        " #<assignment statements>\n",
        " #<any other statements also allowed>"
      ]
    },
    {
      "cell_type": "markdown",
      "source": [
        "### **REMARKS**\n",
        "● When implementing methods:\n",
        "1. Assume preconditions are true\n",
        "2. Assume class invariant is true to start\n",
        "3. Ensure method specification is fulfilled\n",
        "4. Ensure class invariant is true when done\n",
        "\n",
        "● Later, when using the class:\n",
        "\n",
        "○ When calling methods, ensure preconditions are true\n",
        "○ If attributes are altered, ensure class invariant is true"
      ],
      "metadata": {
        "id": "sonxgE1-RzU8"
      }
    },
    {
      "cell_type": "code",
      "source": [
        "# A complete class Example\n",
        "class MyClass:\n",
        "    \"\"\"\n",
        "    A simple example class with a property and several methods.\n",
        "\n",
        "    Attributes:\n",
        "        x (int): A class-level property with the value 5.\n",
        "        name (str): An instance-level property that stores the name of the object.\n",
        "        age (int): An instance-level property that stores the age of the object.\n",
        "\n",
        "    Invariants:\n",
        "        - The name attribute must be a non-empty string.\n",
        "        - The age attribute must be a non-negative integer.\n",
        "    \"\"\"\n",
        "\n",
        "    x = 5 # class attribute\n",
        "\n",
        "    def __new__(cls, name, age):\n",
        "        \"\"\"\n",
        "        The __new__ method is called before __init__ and is responsible for creating and returning a new instance of the class.\n",
        "\n",
        "        Args:\n",
        "            cls: The class that is being instantiated.\n",
        "            name (str): The name to assign to the new object.\n",
        "            age (int): The age to assign to the new object.\n",
        "\n",
        "        Preconditions:\n",
        "            - The name argument must be a non-empty string.\n",
        "            - The age argument must be a non-negative integer.\n",
        "\n",
        "        Returns:\n",
        "            MyClass: A new instance of the MyClass class.\n",
        "        \"\"\"\n",
        "        assert isinstance(name, str) and len(name) > 0, \"name must be a non-empty string\"\n",
        "        assert isinstance(age, int) and age >= 0, \"age must be a non-negative integer\"\n",
        "\n",
        "        print(\"Creating a new instance of MyClass\")\n",
        "        instance = super().__new__(cls) # It is part of inheritance\n",
        "        return instance\n",
        "\n",
        "        #isinstance is a built-in function in Python that checks if an object is an instance of a specified class or a subclass thereof. \n",
        "        #It takes two arguments: the object to check and the class to check against. It returns True if the object is an instance of the class (or a subclass), and False otherwise\n",
        "\n",
        "    def __init__(self, name, age):\n",
        "        \"\"\"\n",
        "        The __init__ method is called after __new__ and is responsible for initializing the new instance of the class.\n",
        "\n",
        "        Args:\n",
        "            name (str): The name to assign to the new object.\n",
        "            age (int): The age to assign to the new object.\n",
        "\n",
        "        Preconditions:\n",
        "            - The name argument must be a non-empty string.\n",
        "            - The age argument must be a non-negative integer.\n",
        "        \"\"\"\n",
        "        assert isinstance(name, str) and len(name) > 0, \"name must be a non-empty string\"\n",
        "        assert isinstance(age, int) and age >= 0, \"age must be a non-negative integer\"\n",
        "\n",
        "        self.name = name\n",
        "        self.age = age\n",
        "\n",
        "    def __repr__(self):\n",
        "        \"\"\"\n",
        "        The __repr__ method returns a string representation of the object that can be used to recreate the object.\n",
        "\n",
        "        Returns:\n",
        "            str: A string representation of the object in the format \"MyClass(name='...', age=...)\".\n",
        "        \"\"\"\n",
        "        return f\"MyClass(name='{self.name}', age={self.age})\"\n",
        "\n",
        "    def __str__(self):\n",
        "        \"\"\"\n",
        "        The __str__ method returns a string representation of the object that is intended to be human-readable.\n",
        "\n",
        "        Returns:\n",
        "            str: A string representation of the object in the format \"My name is ... and I am ... years old.\".\n",
        "        \"\"\"\n",
        "        return f\"My name is {self.name} and I am {self.age} years old.\"\n",
        "\n",
        "    def myfunc(self):\n",
        "        \"\"\"\n",
        "        The myfunc method prints a greeting using the object's name property.\n",
        "\n",
        "        Returns:\n",
        "            None\n",
        "        \"\"\"\n",
        "        print(\"Hello my name is \" + self.name)\n",
        "\n",
        "    def birthday(self):\n",
        "        \"\"\"\n",
        "        The birthday method increases the object's age property by 1 and prints a birthday message.\n",
        "\n",
        "        Returns:\n",
        "            None\n",
        "        \"\"\"\n",
        "        self.age += 1\n",
        "        print(\"Happy birthday! You are now \" + str(self.age) + \" years old.\")\n",
        "\n",
        "    def change_name(self, new_name):\n",
        "        \"\"\"\n",
        "        The change_name method takes a new_name argument and assigns it to the object's name property, then prints a message indicating that the name has been changed.\n",
        "\n",
        "        Args:\n",
        "            new_name (str): The new name to assign to the object.\n",
        "\n",
        "        Preconditions:\n",
        "            - The new_name argument must be a non-empty string.\n",
        "\n",
        "        Returns:\n",
        "            None\n",
        "        \"\"\"\n",
        "        assert isinstance(new_name, str) and len(new_name) > 0, \"new_name must be a non-empty string\"\n",
        "        self.name = new_name\n",
        "        print(\"Your name has been changed to \" + self.name)\n",
        "\n"
      ],
      "metadata": {
        "id": "DmPH-lZmsTuD"
      },
      "execution_count": null,
      "outputs": []
    },
    {
      "cell_type": "markdown",
      "source": [
        "Calling the constructor:\n",
        "\n",
        "○ Makes a new object folder\n",
        "\n",
        "○ Initializes attributes\n",
        "\n",
        "○ Returns the id of the folder(object)"
      ],
      "metadata": {
        "id": "XCF41xp9IgpA"
      }
    },
    {
      "cell_type": "code",
      "source": [
        "# Using __new__ method\n",
        "# Using __init__ method\n",
        "p1 = MyClass(\"John\", 36) # calling of constructor function to construct the object of class(name is same as class name)\n",
        "print(type(p1)) # object of MyClass\n",
        "print(id(p1))"
      ],
      "metadata": {
        "colab": {
          "base_uri": "https://localhost:8080/"
        },
        "id": "jjWUxahBBdhr",
        "outputId": "e7cff6be-49d0-493c-9a99-58682bf86f3b"
      },
      "execution_count": null,
      "outputs": [
        {
          "output_type": "stream",
          "name": "stdout",
          "text": [
            "Creating a new instance of MyClass\n",
            "<class '__main__.MyClass'>\n",
            "140240298977504\n"
          ]
        }
      ]
    },
    {
      "cell_type": "markdown",
      "source": [
        "When the p1 = MyClass(\"John\", 36) line is executed, the __new__ method is called with the arguments \"John\" and 36. The cls argument is automatically set to the MyClass class. Inside the __new__ method, a message is printed indicating that a new instance is being created. Then the super().__new__(cls) method is called to create and return a new instance of the MyClass class.\n",
        "\n",
        "After the new instance has been created, the MyClass.__init__(self, \"John\", 36) method is called to initialize it. Inside this method, a message is printed indicating that the new instance is being initialized. Then the name and age attributes of the instance are set to \"John\" and 36, respectively.\n",
        "\n",
        "In most cases, you don’t need to define a custom __new__ method for your classes. The default behavior provided by Python is usually sufficient. However, if you need more control over how instances of your class are created, you can define a custom __new__ method like in this example."
      ],
      "metadata": {
        "id": "kdG4uYLCBVdh"
      }
    },
    {
      "cell_type": "code",
      "source": [
        "#After the instance has been created and initialized, you can access its attributes using dot notation, like this:\n",
        "\n",
        "print(p1.name) # \"John\"\n",
        "print(p1.age) # 36"
      ],
      "metadata": {
        "colab": {
          "base_uri": "https://localhost:8080/"
        },
        "id": "gdYIGuXoBpMh",
        "outputId": "248b52b8-b609-4f0b-dd57-6261cf2907e5"
      },
      "execution_count": null,
      "outputs": [
        {
          "output_type": "stream",
          "name": "stdout",
          "text": [
            "John\n",
            "36\n"
          ]
        }
      ]
    },
    {
      "cell_type": "code",
      "source": [
        "# using repr and str methods\n",
        "\n",
        "print(p1)\n",
        "print(str(p1))\n",
        "print(repr(p1))"
      ],
      "metadata": {
        "colab": {
          "base_uri": "https://localhost:8080/"
        },
        "id": "O8-tIrOiEnqs",
        "outputId": "5c2df43b-3d51-4362-e12c-2a2e4ec3045d"
      },
      "execution_count": null,
      "outputs": [
        {
          "output_type": "stream",
          "name": "stdout",
          "text": [
            "My name is John and I am 36 years old.\n",
            "My name is John and I am 36 years old.\n",
            "MyClass(name='John', age=36)\n"
          ]
        }
      ]
    },
    {
      "cell_type": "markdown",
      "source": [
        "When the print(p1) line is executed, the MyClass.__repr__(p1) method is called to get a string representation of the p1 instance. This string representation is then printed to the screen.\n",
        "The print(repr(p1)) line does the same thing, but it calls the built-in repr function instead of using the backtick (`) operator.\n",
        "The print(str(p1)) line does the same thing as print(p1) but it calls the built-in str function instead of using the print function directly."
      ],
      "metadata": {
        "id": "vxst3yKAEy4d"
      }
    },
    {
      "cell_type": "code",
      "source": [
        "# use of specific methods, change_name, myfunc, and birthday are all methods that can be defined in a class to perform specific actions on instances of the class.\n",
        "p1.myfunc()\n",
        "p1.birthday()\n",
        "p1.change_name(\"Jane\")"
      ],
      "metadata": {
        "colab": {
          "base_uri": "https://localhost:8080/"
        },
        "id": "juDY5QmTGR29",
        "outputId": "29b48163-e017-44e4-df38-2f0870c946b1"
      },
      "execution_count": null,
      "outputs": [
        {
          "output_type": "stream",
          "name": "stdout",
          "text": [
            "Hello my name is John\n",
            "Happy birthday! You are now 37 years old.\n",
            "Your name has been changed to Jane\n"
          ]
        }
      ]
    },
    {
      "cell_type": "markdown",
      "source": [
        "The class also has three methods: myfunc, birthday, and change_name. The myfunc method takes no arguments and simply prints a greeting using the instance’s name attribute. The birthday method also takes no arguments; it increases the instance’s age attribute by 1 and prints a birthday message. The change_name method takes a single argument, new_name, which is used to update the instance’s name attribute. It then prints a message indicating that the name has been changed. In this definition, the myfunc method takes a single argument, self, which refers to the instance on which the method is being called. Inside the method, the self.name expression is used to access the name attribute of the instance.\n",
        "\n",
        "***Why no argument in myfunc, if it has self as parameter ?***\n",
        "\n",
        "When you call the myfunc method on an instance of the MyClass class, like this:\n",
        "\n",
        "p1.myfunc()\n",
        "Python automatically passes the p1 instance as the first argument to the myfunc method. Inside the method, this instance is referred to as self, and its name attribute is accessed using the self.name expression."
      ],
      "metadata": {
        "id": "Ul-hLBZxG1go"
      }
    },
    {
      "cell_type": "code",
      "source": [
        "# A new class to define difference between method and class attribute\n",
        "class Person:\n",
        "    x = 5\n",
        "\n",
        "    def __init__(self, y):\n",
        "        self.y = y\n",
        "\n",
        "p1 = Person(10)\n",
        "p2 = Person(20)\n",
        "\n",
        "print(Person.x) # 5\n",
        "print(p1.x) # 5\n",
        "print(p2.x) # 5\n",
        "\n",
        "print(p1.y) # 10\n",
        "print(p2.y) # 20\n",
        "\n",
        "Person.x = 6\n",
        "\n",
        "print(Person.x) # 6\n",
        "print(p1.x) # 6\n",
        "print(p2.x) # 6\n",
        "\n",
        "p1.x = 7\n",
        "\n",
        "print(Person.x) # 6\n",
        "print(p1.x) # 7\n",
        "print(p2.x) # 6"
      ],
      "metadata": {
        "colab": {
          "base_uri": "https://localhost:8080/"
        },
        "id": "iCJ7oeEsJoqk",
        "outputId": "2b1bf04d-a1c1-4d76-c0ae-df3f94620807"
      },
      "execution_count": null,
      "outputs": [
        {
          "output_type": "stream",
          "name": "stdout",
          "text": [
            "5\n",
            "5\n",
            "5\n",
            "10\n",
            "20\n",
            "6\n",
            "6\n",
            "6\n",
            "6\n",
            "7\n",
            "6\n"
          ]
        }
      ]
    },
    {
      "cell_type": "markdown",
      "source": [
        "After creating an instance of the MyClass class, you can access its class and instance attributes using dot notation. The MyClass.x expression accesses the x class attribute of the MyClass class, while the p1.x, p1.name, and p1.age expressions access the x, name, and age attributes of the p1 instance, respectively.\n",
        "\n",
        "Note that when you access a class attribute using an instance of the class, like this:\n",
        "\n",
        "```\n",
        "# This is formatted as code\n",
        "print(p1.x)\n",
        "```\n",
        "Python first looks for an instance attribute with the same name. If it doesn’t find one, it looks for a class attribute with the same name. In this case, since the p1 instance doesn’t have an x attribute, Python uses the value of the x class attribute instead."
      ],
      "metadata": {
        "id": "5JIZ9TYJJryC"
      }
    },
    {
      "cell_type": "markdown",
      "source": [
        "## **Here are some coding practice questions related to classes in Python:**\n",
        "\n",
        "1. Define a Rectangle class that has two attributes, length and width, and two methods, area and perimeter, that calculate and return the area and perimeter of the rectangle, respectively.\n",
        "\n",
        "2. Define a Circle class that has one attribute, radius, and two methods, area and circumference, that calculate and return the area and circumference of the circle, respectively. Use the value of pi from the math module in your calculations.\n",
        "\n",
        "3. Define a BankAccount class that has two attributes, owner and balance, and three methods, deposit, withdraw, and show_balance. The deposit method should add the specified amount to the balance, the withdraw method should subtract the specified amount from the balance (but not allow the balance to go below 0), and the show_balance method should print the current balance.\n",
        "\n",
        "4. Define a Person class that has two attributes, name and age, and one method, introduce. The introduce method should print a message that introduces the person by name and age.\n",
        "\n",
        "5. Define a Student class that inherits from the Person class and adds one additional attribute, major, and one additional method, study. The study method should print a message indicating that the student is studying their major.\n",
        "\n",
        "These questions provide an opportunity to practice defining classes with attributes and methods, using inheritance to create subclasses, and using built-in modules like the math module."
      ],
      "metadata": {
        "id": "KrTsRSUkQCjf"
      }
    }
  ]
}