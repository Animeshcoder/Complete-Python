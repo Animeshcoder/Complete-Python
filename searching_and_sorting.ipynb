{
  "nbformat": 4,
  "nbformat_minor": 0,
  "metadata": {
    "colab": {
      "provenance": [],
      "authorship_tag": "ABX9TyPWgvE7DkbuwmMC9kopPX5J",
      "include_colab_link": true
    },
    "kernelspec": {
      "name": "python3",
      "display_name": "Python 3"
    },
    "language_info": {
      "name": "python"
    }
  },
  "cells": [
    {
      "cell_type": "markdown",
      "metadata": {
        "id": "view-in-github",
        "colab_type": "text"
      },
      "source": [
        "<a href=\"https://colab.research.google.com/github/Animeshcoder/Complete-Python/blob/main/searching_and_sorting.ipynb\" target=\"_parent\"><img src=\"https://colab.research.google.com/assets/colab-badge.svg\" alt=\"Open In Colab\"/></a>"
      ]
    },
    {
      "cell_type": "markdown",
      "source": [
        "# **Linear search**\n",
        "Linear search is an algorithm that searches for a target value within a list. It does this by sequentially checking each element of the list for the target value until a match is found or until all the elements have been searched.\n",
        "\n",
        "Here’s an example of linear search in Python:"
      ],
      "metadata": {
        "id": "f06_pX5Ipy49"
      }
    },
    {
      "cell_type": "code",
      "source": [
        "def linear_search(arr, target):\n",
        "    for i in range(len(arr)):\n",
        "        if arr[i] == target:\n",
        "            return i\n",
        "    return -1\n"
      ],
      "metadata": {
        "id": "wvV_BgW8n4LW"
      },
      "execution_count": null,
      "outputs": []
    },
    {
      "cell_type": "markdown",
      "source": [
        "This function takes in two arguments: arr, which is the list to be searched, and target, which is the value to search for. The function returns the index of the first occurrence of the target value if it is found in the list, otherwise it returns -1."
      ],
      "metadata": {
        "id": "KrEWmZ7nqG8K"
      }
    },
    {
      "cell_type": "markdown",
      "source": [
        "# **Binary search**\n",
        "Binary search is an algorithm that searches for a target value within a sorted list. It does this by repeatedly dividing the search interval in half and comparing the middle element of the interval with the target value. If the middle element is equal to the target value, then the search is successful. If the middle element is less than the target value, then the search continues in the right half of the interval. If the middle element is greater than the target value, then the search continues in the left half of the interval.\n",
        "\n",
        "Here’s an example of binary search in Python:"
      ],
      "metadata": {
        "id": "z_t4EoGKqRyX"
      }
    },
    {
      "cell_type": "code",
      "source": [
        "# By Iteration\n",
        "def binary_search(arr, target):\n",
        "    low = 0\n",
        "    high = len(arr) - 1\n",
        "    while low <= high:\n",
        "        mid = (low + high) // 2\n",
        "        if arr[mid] == target:\n",
        "            return mid\n",
        "        elif arr[mid] < target:\n",
        "            low = mid + 1\n",
        "        else:\n",
        "            high = mid - 1\n",
        "    return -1"
      ],
      "metadata": {
        "id": "ySCW8r4cn3-f"
      },
      "execution_count": null,
      "outputs": []
    },
    {
      "cell_type": "code",
      "source": [
        "# By Recursion\n",
        "a = 0\n",
        "def binary_search(v, b):\n",
        "\tglobal a \n",
        "\tl = len(b)//2\n",
        "\tif len(b) == 1 and b[0] != v:\n",
        "\t\treturn -1-a \n",
        "\tif b[l] == v:\n",
        "\t\treturn l\n",
        "\telif v < b[l]:\n",
        "\t\treturn binary_search(v, b[:l])\n",
        "\telif v > b[l]:\n",
        "\t\ta += l \n",
        "\t\treturn binary_search(v, b[l:len(b)]) + len(b)//2\n",
        "b = [1,4,8,12,16,20]\n",
        "print(binary_search(6, [i for i in range(100)]))"
      ],
      "metadata": {
        "colab": {
          "base_uri": "https://localhost:8080/"
        },
        "id": "9gbWWCNRXirY",
        "outputId": "2d44d3ab-9cd3-4e25-984c-9ae725e7e467"
      },
      "execution_count": null,
      "outputs": [
        {
          "output_type": "stream",
          "name": "stdout",
          "text": [
            "6\n"
          ]
        }
      ]
    },
    {
      "cell_type": "markdown",
      "source": [
        "This function takes in two arguments: arr, which is the sorted list to be searched, and target, which is the value to search for. The function returns the index of the target value if it is found in the list, otherwise it returns -1.\n",
        "\n",
        "Let’s say we have a sorted list arr = [1, 3, 4, 6, 8, 9, 11] and we want to search for the target value 6. The binary search algorithm would work as follows:\n",
        "\n",
        "Set low to 0 and high to 6.\n",
        "Calculate mid as (0 + 6) // 2 = 3.\n",
        "Compare arr[3] with 6. Since arr[3] is equal to 6, the search is successful and returns 3."
      ],
      "metadata": {
        "id": "WzKL146ExSoz"
      }
    },
    {
      "cell_type": "code",
      "source": [
        "def swap(lst, index1, index2):\n",
        "  lst[index1], lst[index2] = lst[index2], lst[index1]\n"
      ],
      "metadata": {
        "id": "vVTTf-v0rl18"
      },
      "execution_count": null,
      "outputs": []
    },
    {
      "cell_type": "markdown",
      "source": [
        "## **Insertion Sort**:\n",
        "Insertion sort is a simple sorting algorithm that works by virtually splitting an array into a sorted and an unsorted part. Values from the unsorted part are picked and placed at the correct position in the sorted part. It is efficient for small data values and is adaptive in nature, meaning it is appropriate for data sets which are already partially sorted.\n",
        "\n",
        "Here’s an example of how insertion sort works: Consider an array: {12, 11, 13, 5, 6}\n",
        "\n",
        "First Pass: The first two elements of the array are compared. Since 12 is greater than 11, they are swapped. So now 11 is stored in a sorted sub-array.\n",
        "Second Pass: The next two elements are compared. Since 13 is greater than 12, no swapping occurs. Now 12 is also stored in a sorted sub-array along with 11.\n",
        "Third Pass: The next two elements are compared. Since 5 is smaller than 13, they are swapped. After swapping, elements 12 and 5 are not sorted, thus swap again. Here again, 11 and 5 are not sorted, hence swap again. Now 5 is at its correct position.\n",
        "Fourth Pass: The next two elements are compared. Since 6 is smaller than 13, they are swapped. Now, 6 is smaller than 12, hence swap again. Here also swapping makes 11 and 6 unsorted hence swap again. Finally, the array is completely sorted."
      ],
      "metadata": {
        "id": "brjKom6xV8q9"
      }
    },
    {
      "cell_type": "code",
      "execution_count": null,
      "metadata": {
        "colab": {
          "base_uri": "https://localhost:8080/"
        },
        "id": "XWcSa-Zdris2",
        "outputId": "86722d32-a311-4fbf-85f6-5e25c2929b92"
      },
      "outputs": [
        {
          "output_type": "stream",
          "name": "stdout",
          "text": [
            "[0, 1, 2, 2, 3, 5, 5, 7, 7, 8, 9]\n"
          ]
        }
      ],
      "source": [
        "##################### INSERTION SORT ###########################\n",
        "\n",
        "# Write a Python program to implement insertion sort algorithm to sort a list of integers in ascending order\n",
        "def ins_list_ascending(lst):\n",
        "  for i in range(1, len(lst)):\n",
        "    pushdown(lst, i)\n",
        "  return lst\n",
        "def pushdown(lst, pos):\n",
        "  for j in range(pos):\n",
        "    if lst[pos-j] < lst[pos-j-1]:\n",
        "      swap(lst, pos-j-1, pos-j)\n",
        "    else:\n",
        "      break\n",
        "lst1 = [ 5, 7, 8, 3, 5, 7, 2, 2, 1, 0, 9]\n",
        "print(ins_list_ascending(lst1))"
      ]
    },
    {
      "cell_type": "code",
      "source": [
        "# Given an array of integers, write a Python program to sort the array in descending order using the insertion sort algorithm.\n",
        "# Change the sign of comparision in push down"
      ],
      "metadata": {
        "id": "AIMt-pD39Rl-"
      },
      "execution_count": null,
      "outputs": []
    },
    {
      "cell_type": "code",
      "source": [
        "# Write a Python program to implement insertion sort algorithm for a list of strings. The strings should be sorted in lexicographic order.\n",
        "# Similar to the above code you can change name of function and variable according to your convenience.\n",
        "print(ins_list_ascending([\"banana\", \"apple\", \"pear\", \"orange\"]))"
      ],
      "metadata": {
        "colab": {
          "base_uri": "https://localhost:8080/"
        },
        "id": "82iMRX-v9_YK",
        "outputId": "ee657381-dcfa-4457-fe74-f6d4a94bc4ca"
      },
      "execution_count": null,
      "outputs": [
        {
          "output_type": "stream",
          "name": "stdout",
          "text": [
            "['apple', 'banana', 'orange', 'pear']\n"
          ]
        }
      ]
    },
    {
      "cell_type": "code",
      "source": [
        "# Python program to sort a list of tuples containing a student's name and their corresponding GPA in descending order based on GPA\n",
        "\n",
        "def ins_GPA(lst):\n",
        "  for i in range(1, len(lst)):\n",
        "    pushdown_1(lst, i)\n",
        "  return lst\n",
        "def pushdown_1(lst, pos):\n",
        "  for j in range(pos):\n",
        "    if lst[pos-j][1] > lst[pos-j-1][1]:\n",
        "      swap(lst, pos-j-1, pos-j)\n",
        "    else:\n",
        "      break\n",
        "print(ins_GPA([(\"Alice\", 3.8), (\"Bob\", 3.9), (\"Charlie\", 3.7), (\"Dave\", 4.0)]))"
      ],
      "metadata": {
        "colab": {
          "base_uri": "https://localhost:8080/"
        },
        "id": "IRbxGwgGGJ8Q",
        "outputId": "faa69eb9-be94-4425-b9b5-cf0c10195f42"
      },
      "execution_count": null,
      "outputs": [
        {
          "output_type": "stream",
          "name": "stdout",
          "text": [
            "[('Dave', 4.0), ('Bob', 3.9), ('Alice', 3.8), ('Charlie', 3.7)]\n"
          ]
        }
      ]
    },
    {
      "cell_type": "code",
      "source": [
        "# Python program to implement insertion sort algorithm for a list of dictionaries sorted based on the value of a specific key\n",
        "def ins_dict(lst, key):\n",
        "  for i in range(1, len(lst)):\n",
        "    pushdown_2(lst, i, key)\n",
        "  return lst\n",
        "def pushdown_2(lst, pos, key):\n",
        "  for j in range(pos):\n",
        "    if lst[pos-j][key] < lst[pos-j-1][key]:\n",
        "      swap(lst, pos-j-1, pos-j)\n",
        "    else:\n",
        "      break\n",
        "print(ins_dict([{'name': 'John', 'age': 25}, {'name': 'Jane', 'age': 22}, {'name': 'Bob', 'age': 30}], 'age'))"
      ],
      "metadata": {
        "colab": {
          "base_uri": "https://localhost:8080/"
        },
        "id": "zCHesaW2HFad",
        "outputId": "17b92842-06d1-4a21-8004-d788387e8d08"
      },
      "execution_count": null,
      "outputs": [
        {
          "output_type": "stream",
          "name": "stdout",
          "text": [
            "[{'name': 'Jane', 'age': 22}, {'name': 'John', 'age': 25}, {'name': 'Bob', 'age': 30}]\n"
          ]
        }
      ]
    },
    {
      "cell_type": "markdown",
      "source": [
        "## **Selection Sort**:\n",
        "Selection sort is a simple and efficient sorting algorithm that works by repeatedly selecting the smallest (or largest) element from the unsorted portion of the list and moving it to the sorted portion of the list. The algorithm maintains two subarrays in a given array: one that is already sorted and one that is unsorted. In every iteration of selection sort, the minimum element (considering ascending order) from the unsorted subarray is picked and moved to the beginning of the sorted subarray.\n",
        "\n",
        "Here’s an example of how selection sort works: Consider an array: {64, 25, 12, 22, 11}\n",
        "\n",
        "First Pass: The whole array is traversed sequentially to find the smallest value. In this case, 11 is the lowest value. So 64 is replaced with 11. After one iteration, 11 appears in the first position of the sorted list.\n",
        "Second Pass: The rest of the array is traversed again to find the second lowest value. In this case, it’s 12. So 25 is swapped with 12.\n",
        "Third Pass: The rest of the array is traversed again to find the third lowest value. In this case, it’s 22. So 25 is swapped with 22.\n",
        "Fourth Pass: The rest of the array is traversed again to find the fourth lowest value. In this case, it’s 25. So it stays in its place.\n",
        "Fifth Pass: The largest value present in the array automatically gets placed at the last position in the array. The resulted array is now sorted."
      ],
      "metadata": {
        "id": "F4Q1nusAXJ7c"
      }
    },
    {
      "cell_type": "code",
      "source": [
        "######################################## SELECTION SORT ###############################################\n",
        "\n",
        "# Python program to implement selection sort algorithm to find the k-th smallest element in an unsorted list of integers\n",
        "\n",
        "def sel_k(lst, k):\n",
        "  for i in range(k):\n",
        "    find_minimum(lst, i)\n",
        "  return lst[k-1]\n",
        "def find_minimum(lst , pos):\n",
        "  min_ind = pos\n",
        "  for j in range(pos, len(lst)):\n",
        "    if lst[j] < lst[min_ind]:\n",
        "      min_ind = j\n",
        "  swap(lst, pos, min_ind)\n",
        "lst = [21, 4, 1, 8, 1,33,5,17,9,0]\n",
        "k = 8\n",
        "print(sel_k(lst , k))\n",
        "print(lst)"
      ],
      "metadata": {
        "colab": {
          "base_uri": "https://localhost:8080/"
        },
        "id": "l_waTwH1TkzJ",
        "outputId": "85a281a6-294d-453f-abe6-a725873e7035"
      },
      "execution_count": null,
      "outputs": [
        {
          "output_type": "stream",
          "name": "stdout",
          "text": [
            "17\n",
            "[0, 1, 1, 4, 5, 8, 9, 17, 21, 33]\n"
          ]
        }
      ]
    },
    {
      "cell_type": "code",
      "source": [
        "# Python program to remove duplicates and sort an array of integers using the selection sort algorithm\n",
        "\n",
        "def sel_remove_duplicates(lst):\n",
        "  for i in range(len(lst)):\n",
        "    find_minimum(lst, i)\n",
        "  # Code for removing duplicates\n",
        "  index = 0\n",
        "  for i in range(1, len(lst)):\n",
        "      if lst[i] != lst[index]:\n",
        "          index += 1\n",
        "          lst[index] = lst[i]\n",
        "  del lst[index+1:]\n",
        "def find_minimum(lst , pos):\n",
        "  min_ind = pos\n",
        "  for j in range(pos + 1, len(lst)):\n",
        "    if lst[j] < lst[min_ind]:\n",
        "      min_ind = j\n",
        "  swap(lst, min_ind, pos)\n",
        "\n",
        "l = [1, 3, 1, 4, 1, 5, 7,8, 9,0,1,3,4,5,6,7,8,9,]\n",
        "\n",
        "sel_remove_duplicates(l)\n",
        "\n",
        "# You can also use below code to removing duplicates\n",
        "# i = 0\n",
        "# while i < len(l):\n",
        "#   if l.count(i) > 1:\n",
        "#     l.remove(l[i])\n",
        "#   else:\n",
        "#     i += 1\n",
        "\n",
        "\n",
        "print(l)"
      ],
      "metadata": {
        "colab": {
          "base_uri": "https://localhost:8080/"
        },
        "id": "ep9zscrgPbUK",
        "outputId": "228be935-8d27-43ee-e5d7-d0de896e4a61"
      },
      "execution_count": null,
      "outputs": [
        {
          "output_type": "stream",
          "name": "stdout",
          "text": [
            "[0, 1, 3, 4, 5, 6, 7, 8, 9]\n"
          ]
        }
      ]
    },
    {
      "cell_type": "code",
      "source": [
        "# Python program to implement selection sort algorithm for a list of tuples. The tuples should be sorted based on the second element in ascending order.\n",
        "# Similar to the fourth of insertion sort."
      ],
      "metadata": {
        "id": "pTGa9mpbcCsc"
      },
      "execution_count": null,
      "outputs": []
    },
    {
      "cell_type": "code",
      "source": [
        "# Python program to sort a list of strings based on their length using the selection sort algorithm.\n",
        "\n",
        "def sel_list_len(lst):\n",
        "  for i in range(len(lst)):\n",
        "    find_minimum_1(lst, i)\n",
        "  return lst\n",
        "def find_minimum_1(lst , pos):\n",
        "  min_ind = pos\n",
        "  for j in range(pos + 1, len(lst)):\n",
        "    if len(lst[j]) < len(lst[min_ind]):\n",
        "      min_ind = j\n",
        "  swap(lst, min_ind, pos)\n",
        "arr = [\"pear\", \"apple\", \"orange\", \"banana\", \"guava\", \"lichi\", \"peach\", \"melon\", \"grapes\", 'pea']\n",
        "print(sel_list_len(arr))\n",
        "print(arr)"
      ],
      "metadata": {
        "colab": {
          "base_uri": "https://localhost:8080/"
        },
        "id": "dPKy8nlcce3h",
        "outputId": "199de7e8-ef76-4404-9b5b-e5d5552fe3db"
      },
      "execution_count": null,
      "outputs": [
        {
          "output_type": "stream",
          "name": "stdout",
          "text": [
            "['pea', 'pear', 'guava', 'lichi', 'peach', 'melon', 'apple', 'banana', 'grapes', 'orange']\n",
            "['pea', 'pear', 'guava', 'lichi', 'peach', 'melon', 'apple', 'banana', 'grapes', 'orange']\n"
          ]
        }
      ]
    },
    {
      "cell_type": "markdown",
      "source": [
        "## **QuickSort**:\n",
        "QuickSort is a sorting algorithm based on the Divide and Conquer algorithm that picks an element as a pivot and partitions the given array around the picked pivot by placing the pivot in its correct position in the sorted array. The key process in QuickSort is partitioning. The target of partitioning is to place the pivot (any element can be chosen to be a pivot) at its correct position in the sorted array and put all smaller elements to the left of the pivot, and all greater elements to the right of the pivot. This partition is done recursively which finally sorts the array.\n",
        "\n",
        "Here’s an example of how QuickSort works: Consider an array: {10, 80, 30, 90, 40, 50, 70}\n",
        "\n",
        "First Pass: The whole array is traversed sequentially to find the smallest value. In this case, 11 is the lowest value. So 64 is replaced with 11. After one iteration, 11 appears in the first position of the sorted list.\n",
        "Second Pass: The rest of the array is traversed again to find the second lowest value. In this case, it’s 12. So 25 is swapped with 12.\n",
        "Third Pass: The rest of the array is traversed again to find the third lowest value. In this case, it’s 22. So 25 is swapped with 22.\n",
        "Fourth Pass: The rest of the array is traversed again to find the fourth lowest value. In this case, it’s 25. So it stays in its place.\n",
        "Fifth Pass: The largest value present in the array automatically gets placed at the last position in the array. The resulted array is now sorted."
      ],
      "metadata": {
        "id": "-xlJBch-XlCn"
      }
    },
    {
      "cell_type": "code",
      "source": [
        "################################## QUICK SORT ################################################\n",
        "# Given a list of dictionaries containing employee information, write a Python program to implement quick sort algorithm to sort the list based on the employee's age in ascending order.\n",
        "def partition(lst, low, high):\n",
        "\t\t\tpivot = lst[low]['age']\n",
        "\t\t\tj = high+1\n",
        "\t\t\ti = low\n",
        "\t\t\twhile i<j-1:\n",
        "\t\t\t\tif lst[i+1]['age'] >= pivot:\n",
        "\t\t\t\t\tswap(lst, i+1, j-1)\n",
        "\t\t\t\t\tj -= 1\n",
        "\t\t\t\telse:\n",
        "\t\t\t\t\tswap(lst, i, i+1)\n",
        "\t\t\t\t\ti += 1\n",
        "\t\t\treturn i\n",
        "def quick_sort(lst, low, high):\n",
        "  if (high-low)<1:\n",
        "    return None\n",
        "  j = partition(lst, low, high)\n",
        "  quick_sort(lst, low, j-1)\n",
        "  quick_sort(lst, j+1, high)\n",
        "  return lst\n",
        "print(quick_sort([{'name': 'John', 'age': 25}, {'name': 'Emily', 'age': 21}, {'name': 'Bob', 'age': 32}], 0, 2))\n",
        "\n",
        "\n",
        "# 2nd Method\n",
        "def quick_sort_employees(employees):\n",
        "    if len(employees) <= 1:\n",
        "        return employees\n",
        "\n",
        "    pivot = employees[0]['age']\n",
        "    left = []\n",
        "    right = []\n",
        "    for emp in employees[1:]:\n",
        "        if emp['age'] < pivot:\n",
        "            left.append(emp)\n",
        "        else:\n",
        "            right.append(emp)\n",
        "\n",
        "    return quick_sort_employees(left) + [employees[0]] + quick_sort_employees(right)\n",
        "\n",
        "# Example usage\n",
        "employees = [{'name': 'John', 'age': 25}, {'name': 'Emily', 'age': 21}, {'name': 'Bob', 'age': 32}]\n",
        "print(quick_sort_employees(employees))\n",
        "\n"
      ],
      "metadata": {
        "colab": {
          "base_uri": "https://localhost:8080/"
        },
        "id": "fOCkQpoNi3IW",
        "outputId": "48ebc51c-0711-4d04-ea52-c4ce60b18f3d"
      },
      "execution_count": null,
      "outputs": [
        {
          "output_type": "stream",
          "name": "stdout",
          "text": [
            "[{'name': 'Emily', 'age': 21}, {'name': 'John', 'age': 25}, {'name': 'Bob', 'age': 32}]\n",
            "[{'name': 'Emily', 'age': 21}, {'name': 'John', 'age': 25}, {'name': 'Bob', 'age': 32}]\n"
          ]
        }
      ]
    },
    {
      "cell_type": "code",
      "source": [
        "# Write a Python program to implement the three-way quick sort algorithm to sort a list of integers in ascending order.\n",
        "def three_way_quick_sort(arr):\n",
        "    if len(arr) <= 1:\n",
        "        return arr\n",
        "\n",
        "    pivot = arr[0]\n",
        "    left = []\n",
        "    right = []\n",
        "    middle = []\n",
        "    for num in arr:\n",
        "        if num < pivot:\n",
        "            left.append(num)\n",
        "        elif num > pivot:\n",
        "            right.append(num)\n",
        "        else:\n",
        "            middle.append(num)\n",
        "\n",
        "    return three_way_quick_sort(left) + middle + three_way_quick_sort(right)\n",
        "\n",
        "# Example usage\n",
        "arr = [9, 3, 7, 3, 1, 7, 1, 9, 2]\n",
        "print(three_way_quick_sort(arr))\n",
        "print(arr)"
      ],
      "metadata": {
        "colab": {
          "base_uri": "https://localhost:8080/"
        },
        "id": "Y4T8Y0YqhL7d",
        "outputId": "23a68829-c6e5-4027-ea5c-9bcc5bce7a0c"
      },
      "execution_count": null,
      "outputs": [
        {
          "output_type": "stream",
          "name": "stdout",
          "text": [
            "[1, 1, 2, 3, 3, 7, 7, 9, 9]\n",
            "[9, 3, 7, 3, 1, 7, 1, 9, 2]\n"
          ]
        }
      ]
    },
    {
      "cell_type": "code",
      "source": [
        "# Write a Python program to implement quick sort algorithm to sort a list of co-ordinates in ascending order of their distance from centre.\n",
        "import math\n",
        "def distance_from_origin(point):\n",
        "    x, y = point\n",
        "    return math.sqrt(x**2 + y**2)\n",
        "def partition(lst, low, high):\n",
        "\t\t\tpivot = lst[low]\n",
        "\t\t\tj = high+1\n",
        "\t\t\ti = low\n",
        "\t\t\twhile i<j-1:\n",
        "\t\t\t\tif distance_from_origin(lst[i+1]) >= distance_from_origin(pivot):\n",
        "\t\t\t\t\tswap(lst, i+1, j-1)\n",
        "\t\t\t\t\tj -= 1\n",
        "\t\t\t\telse:\n",
        "\t\t\t\t\tswap(lst, i, i+1)\n",
        "\t\t\t\t\ti += 1\n",
        "\t\t\treturn i\n",
        "def quick_sort_points(lst, low, high):\n",
        "  if (high-low)<1:\n",
        "    return None\n",
        "  j = partition(lst, low, high)\n",
        "  quick_sort_points(lst, low, j-1)\n",
        "  quick_sort_points(lst, j+1, high)\n",
        "  return lst\n",
        "points = [(2, 3), (1, 5), (3, 4), (4, 1), (0, 0)]\n",
        "print(quick_sort_points(points, 0, 4))"
      ],
      "metadata": {
        "colab": {
          "base_uri": "https://localhost:8080/"
        },
        "id": "7gEOgIGahfb8",
        "outputId": "b8ac28fd-a479-4379-99ca-b65aaa16bc59"
      },
      "execution_count": null,
      "outputs": [
        {
          "output_type": "stream",
          "name": "stdout",
          "text": [
            "[(0, 0), (2, 3), (4, 1), (3, 4), (1, 5)]\n"
          ]
        }
      ]
    },
    {
      "cell_type": "code",
      "source": [
        "# Write a Python program to implement quick sort algorithm to sort a list of strings in descending order based on the number of vowels in each string.\n",
        "def num_vowels(string):\n",
        "    vowels = ['a', 'e', 'i', 'o', 'u']\n",
        "    count = 0\n",
        "    for char in string:\n",
        "        if char.lower() in vowels:\n",
        "            count += 1\n",
        "    return count\n",
        "def partition(lst, low, high):\n",
        "  pivot = lst[low]\n",
        "  j = high+1\n",
        "  i = low\n",
        "  while i<j-1:\n",
        "    if num_vowels(lst[i+1]) >= num_vowels(pivot):\n",
        "      swap(lst, i+1, j-1)\n",
        "      j -= 1\n",
        "    else:\n",
        "      swap(lst, i, i+1)\n",
        "      i += 1\n",
        "  return i\n",
        "def quick_sort_string(lst, low, high):\n",
        "  if (high-low)<1:\n",
        "    return None\n",
        "  j = partition(lst, low, high)\n",
        "  quick_sort_string(lst, low, j-1)\n",
        "  quick_sort_string(lst, j+1, high)\n",
        "  return lst\n",
        "\n",
        "# Example usage\n",
        "strings = ['kiwi', 'apple', 'banana', 'cherry', 'orange']\n",
        "print(quick_sort_string(strings, 0, 4))\n"
      ],
      "metadata": {
        "colab": {
          "base_uri": "https://localhost:8080/"
        },
        "id": "47SK1qirl23B",
        "outputId": "961b47a5-1df1-4090-c687-d03d722e46fa"
      },
      "execution_count": null,
      "outputs": [
        {
          "output_type": "stream",
          "name": "stdout",
          "text": [
            "['cherry', 'kiwi', 'apple', 'banana', 'orange']\n"
          ]
        }
      ]
    },
    {
      "cell_type": "code",
      "source": [
        "# Given a list of integers, write a Python program to implement quick sort algorithm to sort the list based on the number of prime factors of each integer in ascending order.\n",
        "def num_prime_factors(num):\n",
        "    count = 0\n",
        "    for i in range(2, num+1):\n",
        "        if num % i == 0:\n",
        "            count += 1\n",
        "            while num % i == 0:\n",
        "                num //= i\n",
        "    return count\n",
        "def partition(lst, low, high):\n",
        "  pivot = lst[low]\n",
        "  j = high+1\n",
        "  i = low\n",
        "  while i<j-1:\n",
        "    if num_prime_factors(lst[i+1]) >= num_prime_factors(pivot):\n",
        "      swap(lst, i+1, j-1)\n",
        "      j -= 1\n",
        "    else:\n",
        "      swap(lst, i, i+1)\n",
        "      i += 1\n",
        "  return i\n",
        "def quick_sort_prime(lst, low, high):\n",
        "  if (high-low)<1:\n",
        "    return None\n",
        "  j = partition(lst, low, high)\n",
        "  quick_sort_prime(lst, low, j-1)\n",
        "  quick_sort_prime(lst, j+1, high)\n",
        "  return lst\n",
        "nums = [10, 15, 20, 25, 30, 35, 40]\n",
        "print(quick_sort_prime(nums, 0, 6))"
      ],
      "metadata": {
        "colab": {
          "base_uri": "https://localhost:8080/"
        },
        "id": "1EXNOXSkl-h3",
        "outputId": "9d4aca25-122e-4076-d2cc-2957299f93a8"
      },
      "execution_count": null,
      "outputs": [
        {
          "output_type": "stream",
          "name": "stdout",
          "text": [
            "[25, 10, 20, 35, 15, 40, 30]\n"
          ]
        }
      ]
    },
    {
      "cell_type": "code",
      "source": [
        "# kth smallest element from an array by using quick-select method.\n",
        "def partition(lst, left, right):\n",
        "    pivot = lst[right]\n",
        "    i = left\n",
        "    for j in range(left, right):\n",
        "        if lst[j] < pivot:\n",
        "            lst[i], lst[j] = lst[j], lst[i]\n",
        "            i += 1\n",
        "    lst[i], lst[right] = lst[right], lst[i]\n",
        "    return i\n",
        "\n",
        "def quick_select(lst, left, right, k):\n",
        "    if left == right:\n",
        "        return lst[left]\n",
        "    pivot_index = partition(lst, left, right)\n",
        "    if k == pivot_index:\n",
        "        return lst[k]\n",
        "    elif k < pivot_index:\n",
        "        return quick_select(lst, left, pivot_index - 1, k)\n",
        "    else:\n",
        "        return quick_select(lst, pivot_index + 1, right, k)\n",
        "\n",
        "def kth_smallest(lst, k):\n",
        "    return quick_select(lst, 0, len(lst) - 1, k - 1)\n",
        "\n",
        "lst = [7, 10, 4, 3, 20, 15]\n",
        "k = 3\n",
        "kth_smallest_element = kth_smallest(lst, k)\n",
        "print(kth_smallest_element)"
      ],
      "metadata": {
        "colab": {
          "base_uri": "https://localhost:8080/"
        },
        "id": "mKifCsnvYIFJ",
        "outputId": "5d875929-4d0c-43d3-cc2c-9d1ef93f3373"
      },
      "execution_count": null,
      "outputs": [
        {
          "output_type": "stream",
          "name": "stdout",
          "text": [
            "7\n"
          ]
        }
      ]
    },
    {
      "cell_type": "markdown",
      "source": [
        "This program defines three functions: partition, quick_select, and kth_smallest. The partition function takes a list of integers lst and two indices left and right as inputs and partitions the sublist lst[left:right+1] around a pivot element. The function returns the index of the pivot element after partitioning. The quick_select function takes a list of integers lst, two indices left and right, and an integer k as inputs and returns the k-th smallest element in the sublist lst[left:right+1]. The function uses the QuickSelect algorithm to find the k-th smallest element by recursively partitioning the sublist around a pivot element until the pivot element is at index k. The kth_smallest function takes a list of integers lst and an integer k as inputs and returns the k-th smallest element in the list. The function calls the quick_select function with the appropriate arguments to find the k-th smallest element.\n",
        "\n",
        "In this example, the input list lst is [7, 10, 4, 3, 20, 15] and k is 3, so the k-th smallest element in the list is 7."
      ],
      "metadata": {
        "id": "oG0ugcNHYOgZ"
      }
    },
    {
      "cell_type": "markdown",
      "source": [
        "The time complexity of a sorting algorithm refers to the time taken by an algorithm to complete its execution with respect to the size of the input. It can be represented in different forms: Big-O notation (O), Omega notation (Ω), and Theta notation (Θ)1.\n",
        "\n",
        "The efficiency of any sorting algorithm is determined by its time complexity and space complexity. Space complexity refers to the total amount of memory used by the algorithm for a complete execution1.\n",
        "\n",
        "Here’s a table showing the time and space complexities of some common sorting algorithms2:\n",
        "\n",
        "\n",
        "\n",
        "\n",
        "\n",
        "```\n",
        "Sorting Algorithm\t Best Time Complexity\tAverage Time Complexity\tWorst Time Complexity\t\n",
        "\n",
        "Selection Sort\t        Ω(n^2)\t                     θ(n^2)              O(n^2)\t                \n",
        "Bubble Sort            \tΩ(n)                     \tθ(n^2)\t           O(n^2)\t    \n",
        "Insertion Sort\t        Ω(n)\t                     θ(n^2)\t               O(n^2)\t\n",
        "Heap Sort\t          Ω(n log(n))\t            θ(n log(n))\t           O(n log(n))\t\n",
        "Quick Sort\t        Ω(n log(n))\t            θ(n log(n))\t               O(n^2)\t\n",
        "Merge Sort\t        Ω(n log(n))            \tθ(n log(n))\t           O(n log(n))\t\n",
        "```\n",
        "\n",
        "Here’s a step-by-step explanation of how to calculate the time complexity for selection sort, insertion sort, and quicksort:\n",
        "\n",
        "Selection Sort: Selection sort works by repeatedly finding the minimum element from the unsorted part of the array and swapping it with the first element of the unsorted part. The time complexity of selection sort can be calculated as follows:\n",
        "\n",
        "In the first pass, the algorithm compares the first element with all  $n-1 $ remaining elements to find the minimum element.\n",
        "In the second pass, the algorithm compares the second element with all $ n-2$ remaining elements to find the minimum element.\n",
        "This continues until the last pass, where the algorithm compares the second-last element with the last remaining element to find the minimum element.\n",
        "The total number of comparisons can be calculated as $(n-1) + (n-2) + … + 1 = n(n-1)/2$. Since this is a quadratic expression, we can say that selection sort has a time complexity of $O(n^2)$ in the worst case.\n",
        "\n",
        "Insertion Sort: Insertion sort works by repeatedly taking an element from the unsorted part of the array and inserting it into its correct position in the sorted part of the array. The time complexity of insertion sort can be calculated as follows:\n",
        "\n",
        "In the worst case, each element needs to be compared with all the elements in the sorted part of the array before being inserted into its correct position.\n",
        "This means that in the first pass, there is 1 comparison; in the second pass, there are 2 comparisons; in the third pass, there are 3 comparisons; and so on.\n",
        "The total number of comparisons can be calculated as $1 + 2 + … + (n-1) = n(n-1)/2$. Since this is a quadratic expression, we can say that insertion sort has a time complexity of $O(n^2)$ in the worst case.\n",
        "\n",
        "Quicksort: Quicksort works by partitioning the array into two smaller sub-arrays and then recursively sorting those sub-arrays. The time complexity of quicksort can be calculated as follows:\n",
        "\n",
        "In the best case, each partition divides the array into two equal-sized sub-arrays. This means that each recursive call processes a sub-array half the size of its parent.\n",
        "This results in a recursion tree where each level has half as many nodes as its parent and where each node does $O(n)$ work to partition its sub-array.\n",
        "Since there are $log(n)$ levels in this tree and each level does $O(n)$ work, we can say that quicksort has a time complexity of $O(n log(n))$ in the best case.\n",
        "In contrast, in the worst case, each partition divides the array into two sub-arrays where one is empty and one has size $n-1$. This results in a recursion tree where each level has only one node and where each node does $O(n)$ work to partition its sub-array. Since there are $n$ levels in this tree and each level does $O(n)$ work, we can say that quicksort has a time complexity of $O(n^2)$ in the worst case.\n",
        "\n"
      ],
      "metadata": {
        "id": "-s2NWmCxDXcD"
      }
    },
    {
      "cell_type": "markdown",
      "source": [
        "# **Questions**"
      ],
      "metadata": {
        "id": "x8QSE1BFc00d"
      }
    },
    {
      "cell_type": "markdown",
      "source": [
        "\n",
        "\n",
        "```\n",
        "# What is the time complexity of the following code snippet that calculates the sum of all elements in an array?\n",
        "sum = 0\n",
        "for i in range(len(arr)):\n",
        "    sum += arr[i]\n",
        "\n",
        "# What is the time complexity of the following code snippet that reverses a string?\n",
        "reversed_string = \"\"\n",
        "for i in range(len(s) - 1, -1, -1):\n",
        "    reversed_string += s[i]\n",
        "\n",
        "# What is the time complexity of the following code snippet that checks if an array contains any duplicates?\n",
        "has_duplicates = False\n",
        "for i in range(len(arr)):\n",
        "    for j in range(i + 1, len(arr)):\n",
        "        if arr[i] == arr[j]:\n",
        "            has_duplicates = True\n",
        "            break\n",
        "\n",
        "# What is the time complexity of the following code snippet that performs linear search on an array?\n",
        "index = -1\n",
        "for i in range(len(arr)):\n",
        "    if arr[i] == target:\n",
        "        index = i\n",
        "        break\n",
        "\n",
        "# What is the time complexity of the following code snippet that sorts an array using bubble sort?\n",
        "for i in range(len(arr)):\n",
        "    for j in range(len(arr) - i - 1):\n",
        "        if arr[j] > arr[j + 1]:\n",
        "            arr[j], arr[j + 1] = arr[j + 1], arr[j]\n",
        "```\n",
        "\n"
      ],
      "metadata": {
        "id": "2HuC4WXxh7Zn"
      }
    },
    {
      "cell_type": "markdown",
      "source": [
        "# **Solutions**\n",
        "The time complexity of the code snippet that calculates the sum of all elements in an array is O(n), where n is the length of the array. This is because the for loop iterates n times, and each iteration takes constant time.\n",
        "\n",
        "The time complexity of the code snippet that reverses a string is O(n), where n is the length of the string. This is because the for loop iterates n times, and each iteration takes constant time.\n",
        "\n",
        "The time complexity of the code snippet that checks if an array contains any duplicates is O(n^2), where n is the length of the array. This is because there are two nested for loops, each iterating n times.\n",
        "\n",
        "The time complexity of the code snippet that performs linear search on an array is O(n), where n is the length of the array. This is because the for loop iterates n times in the worst case, and each iteration takes constant time.\n",
        "\n",
        "The time complexity of the code snippet that sorts an array using bubble sort is O(n^2), where n is the length of the array. This is because there are two nested for loops, each iterating n times in the worst case."
      ],
      "metadata": {
        "id": "-M9z9QZ2cs7i"
      }
    },
    {
      "cell_type": "markdown",
      "source": [],
      "metadata": {
        "id": "SRVYb4kUDYcZ"
      }
    },
    {
      "cell_type": "markdown",
      "source": [
        "# **Questions For Practice**\n",
        "What is the time complexity of the following code snippet that finds the maximum element in a 2D array?\n",
        "\n",
        "\n",
        "```\n",
        "\n",
        "max_element = -float('inf')\n",
        "for i in range(n):\n",
        "    for j in range(m):\n",
        "        if arr[i][j] > max_element:\n",
        "            max_element = arr[i][j]\n",
        "```\n",
        "What is the time complexity of the following code snippet that checks if a string is a palindrome?\n",
        "\n",
        "\n",
        "```\n",
        "is_palindrome = True\n",
        "for i in range(len(s) // 2):\n",
        "    if s[i] != s[len(s) - i - 1]:\n",
        "        is_palindrome = False\n",
        "        break\n",
        "```\n",
        "What is the time complexity of the following code snippet that calculates the factorial of a number?\n",
        "\n",
        "\n",
        "```\n",
        "factorial = 1\n",
        "for i in range(1, n + 1):\n",
        "    factorial *= i\n",
        "```\n",
        "\n",
        "\n",
        "What is the time complexity of the following code snippet that performs binary search on a sorted array?\n",
        "\n",
        "\n",
        "```\n",
        "low = 0\n",
        "high = len(arr) - 1\n",
        "while low <= high:\n",
        "    mid = (low + high) // 2\n",
        "    if arr[mid] == target:\n",
        "        return mid\n",
        "    elif arr[mid] < target:\n",
        "        low = mid + 1\n",
        "    else:\n",
        "        high = mid - 1\n",
        "return -1\n",
        "```\n",
        "What is the time complexity of the following code snippet that performs matrix multiplication?\n",
        "\n",
        "\n",
        "```\n",
        "result = [[0 for j in range(n)] for i in range(m)]\n",
        "for i in range(m):\n",
        "    for j in range(n):\n",
        "        for k in range(p):\n",
        "            result[i][j] += A[i][k] * B[k][j]\n",
        "```"
      ],
      "metadata": {
        "id": "O7pE1pEhc7S_"
      }
    }
  ]
}