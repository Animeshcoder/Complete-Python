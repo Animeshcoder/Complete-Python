{
  "nbformat": 4,
  "nbformat_minor": 0,
  "metadata": {
    "colab": {
      "provenance": [],
      "authorship_tag": "ABX9TyOki8/YK6X24N3yut7/E7W9",
      "include_colab_link": true
    },
    "kernelspec": {
      "name": "python3",
      "display_name": "Python 3"
    },
    "language_info": {
      "name": "python"
    }
  },
  "cells": [
    {
      "cell_type": "markdown",
      "metadata": {
        "id": "view-in-github",
        "colab_type": "text"
      },
      "source": [
        "<a href=\"https://colab.research.google.com/github/Animeshcoder/Complete-Python/blob/main/Advanced_error_handling.ipynb\" target=\"_parent\"><img src=\"https://colab.research.google.com/assets/colab-badge.svg\" alt=\"Open In Colab\"/></a>"
      ]
    },
    {
      "cell_type": "markdown",
      "source": [
        "# **Advanced Error Handling**\n",
        "Advanced error handling in Python refers to the use of techniques such as try, except, else, and finally statements to handle errors and exceptions that may occur during the execution of a program. These techniques allow you to anticipate and handle errors gracefully, instead of letting them crash your program.\n",
        "\n",
        "Here’s an example that demonstrates how to use try, except, else, and finally statements for advanced error handling in Python:\n"
      ],
      "metadata": {
        "id": "QyYuw5-d3SdK"
      }
    },
    {
      "cell_type": "code",
      "source": [
        "try:\n",
        "    x = 5 / 0\n",
        "except ZeroDivisionError as e:\n",
        "    print(\"Error: \", e)\n",
        "else:\n",
        "    print(\"No errors occurred\")\n",
        "finally:\n",
        "    print(\"This code will always be executed\")"
      ],
      "metadata": {
        "id": "HMyRrhDV3hvq",
        "colab": {
          "base_uri": "https://localhost:8080/"
        },
        "outputId": "d26167e7-f50b-4ced-f6d0-45fd68d0b04f"
      },
      "execution_count": null,
      "outputs": [
        {
          "output_type": "stream",
          "name": "stdout",
          "text": [
            "Error:  division by zero\n",
            "This code will always be executed\n"
          ]
        }
      ]
    },
    {
      "cell_type": "markdown",
      "source": [
        "In this example, we have a try block that contains code that may raise an exception (in this case, a ZeroDivisionError). If an exception is raised, the code in the except block is executed. In this case, we catch the ZeroDivisionError and print an error message.\n",
        "\n",
        "If no exception is raised, the code in the else block is executed. This block is optional and is only executed if no exceptions were raised.\n",
        "\n",
        "The finally block contains code that will always be executed, regardless of whether an exception was raised or not. This block is also optional but can be useful for cleaning up resources or performing other tasks that should always be done."
      ],
      "metadata": {
        "id": "PihDBKe53lII"
      }
    },
    {
      "cell_type": "markdown",
      "source": [
        "## **Hierarchy of error classes**:\n",
        "In Python, all exceptions are derived from the BaseException class. The exception hierarchy provides a well-organized way to categorize and handle different types of exceptions. Here is an example that demonstrates how the exception hierarchy works in Python:"
      ],
      "metadata": {
        "id": "N-V4TYuv3rfd"
      }
    },
    {
      "cell_type": "code",
      "source": [
        "try:\n",
        "    x = 5 / 0\n",
        "except ArithmeticError as e:\n",
        "    print(\"ArithmeticError: \", e)\n",
        "except ZeroDivisionError as e:\n",
        "    print(\"ZeroDivisionError: \", e)\n",
        "except Exception as e:\n",
        "    print(\"Exception: \", e)"
      ],
      "metadata": {
        "id": "pYOEmYdE3qZZ",
        "colab": {
          "base_uri": "https://localhost:8080/"
        },
        "outputId": "2efe957c-0930-4b71-f4fc-33cafe9eb731"
      },
      "execution_count": null,
      "outputs": [
        {
          "output_type": "stream",
          "name": "stdout",
          "text": [
            "ArithmeticError:  division by zero\n"
          ]
        }
      ]
    },
    {
      "cell_type": "markdown",
      "source": [
        "In this example, we have a try block that contains code that may raise an exception (in this case, a ZeroDivisionError). We have three except blocks that catch different types of exceptions.\n",
        "\n",
        "The first except block catches ArithmeticError exceptions. This is a base class for exceptions that are raised for various arithmetic errors, including ZeroDivisionError.\n",
        "\n",
        "The second except block catches ZeroDivisionError exceptions. This is a subclass of ArithmeticError and is raised when an attempt is made to divide a number by zero.\n",
        "\n",
        "The third except block catches all other exceptions that are derived from the Exception class. This is a base class for most built-in exceptions in Python.\n",
        "\n",
        "When we run this code, the first except block is executed because a ZeroDivisionError is raised and it is a subclass of ArithmeticError. Note that even though the second except block could also catch this exception, the first except block is executed because it appears first in the code."
      ],
      "metadata": {
        "id": "BFtvNDfI3zG8"
      }
    },
    {
      "cell_type": "markdown",
      "source": [
        "### **Accessing Multiple Errors:**\n",
        "Yes, it is possible to handle multiple errors in one except block by specifying the exceptions as a tuple. Here is an example that demonstrates how to handle multiple errors in one except block:"
      ],
      "metadata": {
        "id": "wiq0_bt2333Y"
      }
    },
    {
      "cell_type": "code",
      "source": [
        "try:\n",
        "    x = 5 / 0\n",
        "except (ArithmeticError, ZeroDivisionError) as e:\n",
        "    print(\"Error: \", e)"
      ],
      "metadata": {
        "id": "wUebEIoV4HyN",
        "colab": {
          "base_uri": "https://localhost:8080/"
        },
        "outputId": "19856fc1-8de1-4fec-ca0e-2e65997ae191"
      },
      "execution_count": null,
      "outputs": [
        {
          "output_type": "stream",
          "name": "stdout",
          "text": [
            "Error:  division by zero\n"
          ]
        }
      ]
    },
    {
      "cell_type": "markdown",
      "source": [
        "In this example, we have a try block that contains code that may raise an exception (in this case, a ZeroDivisionError). We have an except block that catches both ArithmeticError and ZeroDivisionError exceptions.\n",
        "\n",
        "When we run this code, the except block is executed because a ZeroDivisionError is raised. Note that even though we specified two exceptions in the except block, only one of them needs to be raised for the block to be executed."
      ],
      "metadata": {
        "id": "kMKibLCV4IY1"
      }
    },
    {
      "cell_type": "markdown",
      "source": [
        "### **Else Statement**\n",
        "The else statement is used in conjunction with a try statement to specify code that should be executed if no exceptions were raised. Here is an example that demonstrates how to use the else statement:"
      ],
      "metadata": {
        "id": "PRBpmnSM4Tj8"
      }
    },
    {
      "cell_type": "code",
      "source": [
        "try:\n",
        "    x = 5 / 2\n",
        "except ZeroDivisionError as e:\n",
        "    print(\"Error: \", e)\n",
        "else:\n",
        "    print(\"No errors occurred\")"
      ],
      "metadata": {
        "id": "RWoV_o_44h8B",
        "colab": {
          "base_uri": "https://localhost:8080/"
        },
        "outputId": "6d47834c-e0de-442b-e9fe-ba6177ea7950"
      },
      "execution_count": null,
      "outputs": [
        {
          "output_type": "stream",
          "name": "stdout",
          "text": [
            "No errors occurred\n"
          ]
        }
      ]
    },
    {
      "cell_type": "markdown",
      "source": [
        "In this example, we have a try block that contains code that may raise an exception (in this case, a ZeroDivisionError). We have an except block that catches ZeroDivisionError exceptions.\n",
        "\n",
        "We also have an else block that contains code that will be executed if no exceptions were raised. In this case, we print a message to indicate that no errors occurred.\n",
        "\n",
        "When we run this code, no exceptions are raised, so the code in the else block is executed and the message “No errors occurred” is printed."
      ],
      "metadata": {
        "id": "Oht0jfTV4jIW"
      }
    },
    {
      "cell_type": "markdown",
      "source": [
        "## **Finally Statement**:\n",
        "The finally statement is used to specify code that should always be executed, regardless of whether an exception was raised or not. Here is an example that demonstrates how to use the finally statement:"
      ],
      "metadata": {
        "id": "XIsif8J94JKo"
      }
    },
    {
      "cell_type": "code",
      "source": [
        "def divide(x, y):\n",
        "    try:\n",
        "        result = x / y\n",
        "    except ZeroDivisionError:\n",
        "        print(\"Error: Cannot divide by zero\")\n",
        "    else:\n",
        "        print(f\"The result is {result}\")\n",
        "    finally:\n",
        "        print(\"This code will always be executed\")\n",
        "\n",
        "divide(5, 0)\n",
        "divide(5, 2)\n"
      ],
      "metadata": {
        "id": "aaF-Gm8p4TBE",
        "colab": {
          "base_uri": "https://localhost:8080/"
        },
        "outputId": "5fc4c7ce-ea93-4f8b-947e-3eb6287489ca"
      },
      "execution_count": null,
      "outputs": [
        {
          "output_type": "stream",
          "name": "stdout",
          "text": [
            "Error: Cannot divide by zero\n",
            "This code will always be executed\n",
            "The result is 2.5\n",
            "This code will always be executed\n"
          ]
        }
      ]
    },
    {
      "cell_type": "markdown",
      "source": [
        "In this example, we define a function divide that takes two arguments x and y and attempts to divide x by y. The try block contains the division operation, which may raise a ZeroDivisionError if y is zero. The except clause catches this error and prints an error message. The else clause is executed if no exception is raised and prints the result of the division. The finally clause is then executed, regardless of whether an exception was raised or not. The finally clause is useful for cleaning up resources or performing actions that should always be executed, even if an exception is raised.\n",
        "\n",
        "In the first call to the divide function, we pass 5 and 0 as arguments. This raises a ZeroDivisionError, which is caught by the except clause. The else clause is not executed because an exception was raised. The finally clause is then executed.\n",
        "\n",
        "In the second call to the divide function, we pass 5 and 2 as arguments. No exception is raised, so the else clause is executed and prints the result of the division. The finally clause is then executed."
      ],
      "metadata": {
        "id": "nF5R_DhC4UfZ"
      }
    },
    {
      "cell_type": "markdown",
      "source": [
        "### **Raise Statement:**\n",
        "The raise statement is used to manually raise an exception. You can use it to generate your own errors or to re-raise an exception that was caught. Here is an example that demonstrates how to use the raise statement to generate errors:"
      ],
      "metadata": {
        "id": "T7m8lblV4i3p"
      }
    },
    {
      "cell_type": "code",
      "source": [
        "def divide(x, y):\n",
        "    if y == 0:\n",
        "        raise ZeroDivisionError(\"division by zero\")\n",
        "    return x / y\n",
        "\n",
        "\n",
        "try:\n",
        "    result = divide(5, 0)\n",
        "except ZeroDivisionError as e:\n",
        "    print(\"Error: \", e)"
      ],
      "metadata": {
        "id": "9uKf_b4a4u-7",
        "colab": {
          "base_uri": "https://localhost:8080/"
        },
        "outputId": "1af08032-732a-43cf-b4ad-bd156407473b"
      },
      "execution_count": null,
      "outputs": [
        {
          "output_type": "stream",
          "name": "stdout",
          "text": [
            "Error:  division by zero\n"
          ]
        }
      ]
    },
    {
      "cell_type": "markdown",
      "source": [
        "In this example, we have a function divide that takes two arguments x and y. If y is equal to 0, we raise a ZeroDivisionError with a custom error message.\n",
        "\n",
        "We also have a try block that contains code that may raise an exception (in this case, a ZeroDivisionError). We have an except block that catches ZeroDivisionError exceptions.\n",
        "\n",
        "When we run this code, we call the divide function with arguments 5 and 0. Since the second argument is 0, a ZeroDivisionError is raised and caught by the except block. The error message “Error: division by zero” is printed."
      ],
      "metadata": {
        "id": "iz3e7m6B4vzg"
      }
    },
    {
      "cell_type": "markdown",
      "source": [
        "## **How to Create Your Own Exception?**\n",
        "You can create a custom exception class by subclassing an existing exception class, such as Exception. Here is an example that demonstrates how to create and use a custom exception class:"
      ],
      "metadata": {
        "id": "vgY1hGeA4vnz"
      }
    },
    {
      "cell_type": "code",
      "execution_count": null,
      "metadata": {
        "colab": {
          "base_uri": "https://localhost:8080/"
        },
        "id": "-77PjYT9zM_X",
        "outputId": "5df72e15-ae8d-4f56-ae79-d1f79c54750d"
      },
      "outputs": [
        {
          "output_type": "stream",
          "name": "stdout",
          "text": [
            "Error: Cannot divide by zero\n",
            "This code will always be executed\n"
          ]
        }
      ],
      "source": [
        "class CustomError(Exception):\n",
        "    def __init__(self, message):\n",
        "        self.message = message\n",
        "\n",
        "\n",
        "    def divide(x, y):\n",
        "        if y == 0:\n",
        "            raise CustomError(\"division by zero\")\n",
        "        return x / y\n",
        "\n",
        "\n",
        "try:\n",
        "    result = divide(5, 0)\n",
        "except CustomError as e:\n",
        "    print(\"Error: \", e.message)"
      ]
    },
    {
      "cell_type": "markdown",
      "source": [
        "In this example, we have a custom exception class CustomError that subclasses the Exception class. We define an __init__ method that takes a message argument and sets it as an attribute of the object.\n",
        "\n",
        "We also have a function divide that takes two arguments x and y. If y is equal to 0, we raise a CustomError with a custom error message.\n",
        "\n",
        "We have a try block that contains code that may raise an exception (in this case, a CustomError). We have an except block that catches CustomError exceptions.\n",
        "\n",
        "When we run this code, we call the divide function with arguments 5 and 0. Since the second argument is 0, a CustomError is raised and caught by the except block. The error message “Error: division by zero” is printed."
      ],
      "metadata": {
        "id": "P3JBc0Fu5Fh1"
      }
    },
    {
      "cell_type": "markdown",
      "source": [
        "### **Questions For Practice:**\n",
        "1. Write a function that takes a filename as an argument and reads the contents of the file. Use a try-except block to handle the case where the file does not exist or cannot be read. Use an else clause to print the contents of the file if no exception is raised. Use a finally clause to close the file.\n",
        "\n",
        "2. Write a function that takes a list of numbers as an argument and calculates the average. Use a try-except block to handle the case where the list is empty or contains non-numeric values. Use an else clause to print the average if no exception is raised.\n",
        "\n",
        "3. Write a function that takes two arguments and divides the first by the second. Use a try-except block to handle the case where the second argument is zero or not a number. Use an else clause to print the result if no exception is raised. Use a finally clause to print a message indicating that the division operation is complete.\n",
        "\n",
        "4. Define the following function using try-except according to the given specifications.\n",
        "\n",
        "\n",
        "```\n",
        "def get previous(filename):\n",
        "\n",
        "  '''Returns the number before the one stored in the file filename.\n",
        "\n",
        "  By number before, we mean that the number is an int, and the result subtracts one from the int in the file\n",
        "\n",
        "  If the file does not contain an int, this function returns the contents of the file.\n",
        "\n",
        "  If the file does not exist or cannot be opened, this function returns None.\n",
        "\n",
        "  Parameter filename: The name of the file to open Precondition: filename is a string'''\n",
        "```\n",
        "\n",
        "\n",
        "\n"
      ],
      "metadata": {
        "id": "n0BACWAw_Jhv"
      }
    },
    {
      "cell_type": "markdown",
      "source": [],
      "metadata": {
        "id": "mwwUfgxc_JGJ"
      }
    }
  ]
}