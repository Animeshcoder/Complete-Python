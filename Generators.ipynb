{
  "nbformat": 4,
  "nbformat_minor": 0,
  "metadata": {
    "colab": {
      "provenance": [],
      "authorship_tag": "ABX9TyOM7xUx82NNgPJiD9tvza05",
      "include_colab_link": true
    },
    "kernelspec": {
      "name": "python3",
      "display_name": "Python 3"
    },
    "language_info": {
      "name": "python"
    }
  },
  "cells": [
    {
      "cell_type": "markdown",
      "metadata": {
        "id": "view-in-github",
        "colab_type": "text"
      },
      "source": [
        "<a href=\"https://colab.research.google.com/github/Animeshcoder/Complete-Python/blob/main/Generators.ipynb\" target=\"_parent\"><img src=\"https://colab.research.google.com/assets/colab-badge.svg\" alt=\"Open In Colab\"/></a>"
      ]
    },
    {
      "cell_type": "markdown",
      "source": [
        "# **Generators:**\n",
        "Generators are a type of iterable in Python, like lists or tuples. However, unlike lists and tuples, generators do not store their contents in memory. Instead, they generate each value on-the-fly as you iterate over them."
      ],
      "metadata": {
        "id": "hlt-aeKVGcLV"
      }
    },
    {
      "cell_type": "markdown",
      "source": [
        "We have used range() as a built-in function in Python that generates a sequence of numbers. It is commonly used in for loops to iterate over a sequence of numbers.\n",
        "range() is an iterable, not an iterator. An iterable is an object that can be iterated over, meaning you can traverse through all its values. An iterator is an object with\n",
        "\n",
        "\n",
        "```\n",
        "__next__() \n",
        "```\n",
        "\n",
        "\n",
        "method that returns the next value from the iterator.\n",
        "\n",
        "When you use a range() object in a for loop, Python automatically creates an iterator from the range() object and uses the iterator to loop over the values. You can also create an iterator from a range() object manually by calling the iter() function on it.\n",
        "\n",
        "Here’s an example that shows how to create an iterator from a range() object and use it to loop over the values:"
      ],
      "metadata": {
        "id": "b1ZYJ4lWGo4e"
      }
    },
    {
      "cell_type": "code",
      "source": [
        "r = range(5)\n",
        "print(type(r))\n",
        "it = iter(r)\n",
        "\n",
        "print(next(it)) # 0\n",
        "print(next(it)) # 1\n",
        "print(next(it)) # 2\n",
        "print(next(it)) # 3\n",
        "print(next(it)) # 4"
      ],
      "metadata": {
        "colab": {
          "base_uri": "https://localhost:8080/"
        },
        "id": "Bmt05ywcG1RR",
        "outputId": "e9fa7c61-b0bc-4dc7-abdc-b6983559e5e4"
      },
      "execution_count": null,
      "outputs": [
        {
          "output_type": "stream",
          "name": "stdout",
          "text": [
            "<class 'range'>\n",
            "0\n",
            "1\n",
            "2\n",
            "3\n",
            "4\n"
          ]
        }
      ]
    },
    {
      "cell_type": "markdown",
      "source": [
        "In this example, we create a range() object that generates the numbers 0 to 4. We then create an iterator from the range() object by calling the iter() function on it. We can then use the next() function to get the next value from the iterator."
      ],
      "metadata": {
        "id": "Dxqe9_NFG109"
      }
    },
    {
      "cell_type": "markdown",
      "source": [
        "### **Here are some examples of creating and using iterators in Python:**"
      ],
      "metadata": {
        "id": "zAG42uACIO7e"
      }
    },
    {
      "cell_type": "code",
      "execution_count": null,
      "metadata": {
        "colab": {
          "base_uri": "https://localhost:8080/"
        },
        "id": "KkQRc5a0FJ5K",
        "outputId": "6a947309-7e73-45f5-8574-f99a2ce9e698"
      },
      "outputs": [
        {
          "output_type": "stream",
          "name": "stdout",
          "text": [
            "1\n",
            "2\n",
            "3\n"
          ]
        }
      ],
      "source": [
        "#Creating an iterator from a list:\n",
        "\n",
        "my_list = [1, 2, 3]\n",
        "my_iterator = iter(my_list)\n",
        "\n",
        "print(next(my_iterator)) # 1\n",
        "print(next(my_iterator)) # 2\n",
        "print(next(my_iterator)) # 3"
      ]
    },
    {
      "cell_type": "code",
      "source": [
        "# Creating an iterator from a string:\n",
        "\n",
        "my_string = \"hello\"\n",
        "my_iterator = iter(my_string)\n",
        "\n",
        "print(next(my_iterator)) # h\n",
        "print(next(my_iterator)) # e\n",
        "print(next(my_iterator)) # l"
      ],
      "metadata": {
        "colab": {
          "base_uri": "https://localhost:8080/"
        },
        "id": "xDAtsKykJV8w",
        "outputId": "5780e12f-2973-4765-a81a-456cd408baa8"
      },
      "execution_count": null,
      "outputs": [
        {
          "output_type": "stream",
          "name": "stdout",
          "text": [
            "h\n",
            "e\n",
            "l\n"
          ]
        }
      ]
    },
    {
      "cell_type": "code",
      "source": [
        "# Creating an iterator from a custom object:\n",
        "\n",
        "class MyRange:\n",
        "    def __init__(self, start, end):\n",
        "        self.start = start\n",
        "        self.end = end\n",
        "\n",
        "    def __iter__(self):\n",
        "        return self\n",
        "\n",
        "    def __next__(self):\n",
        "        if self.start >= self.end:\n",
        "            raise StopIteration\n",
        "        current = self.start\n",
        "        self.start += 1\n",
        "        return current\n",
        "\n",
        "my_range = MyRange(1, 4)\n",
        "my_iterator = iter(my_range)\n",
        "\n",
        "print(next(my_iterator)) # 1\n",
        "print(next(my_iterator)) # 2\n",
        "print(next(my_iterator)) # 3"
      ],
      "metadata": {
        "colab": {
          "base_uri": "https://localhost:8080/"
        },
        "id": "4W1U2dG2JVwT",
        "outputId": "f391de7b-2dd7-4f0d-f613-72711a269325"
      },
      "execution_count": null,
      "outputs": [
        {
          "output_type": "stream",
          "name": "stdout",
          "text": [
            "1\n",
            "2\n",
            "3\n"
          ]
        }
      ]
    },
    {
      "cell_type": "markdown",
      "source": [
        "## **Infinite Iterator 🥸**\n",
        "Here’s an example of creating an infinite iterator in Python:"
      ],
      "metadata": {
        "id": "2bjcYP3zLoL7"
      }
    },
    {
      "cell_type": "code",
      "source": [
        "class InfiniteCounter:\n",
        "    def __init__(self):\n",
        "        self.current = 0\n",
        "\n",
        "    def __iter__(self):\n",
        "        return self\n",
        "\n",
        "    def __next__(self):\n",
        "        current = self.current\n",
        "        self.current += 1\n",
        "        return current\n",
        "\n",
        "counter = InfiniteCounter()\n",
        "print(next(counter))\n",
        "print(next(counter))\n",
        "print(next(counter))\n",
        "print(next(counter)) # you can go to infinite"
      ],
      "metadata": {
        "colab": {
          "base_uri": "https://localhost:8080/"
        },
        "id": "TFb2pGvOMqt9",
        "outputId": "bb22a020-8a64-4421-cb0a-a224ae289f4e"
      },
      "execution_count": null,
      "outputs": [
        {
          "output_type": "stream",
          "name": "stdout",
          "text": [
            "0\n",
            "1\n",
            "2\n",
            "3\n"
          ]
        }
      ]
    },
    {
      "cell_type": "markdown",
      "source": [
        "### **Here are some examples of creating and using iterables in Python:**"
      ],
      "metadata": {
        "id": "hSC0hhlpKVJv"
      }
    },
    {
      "cell_type": "code",
      "source": [
        "# Using a list as an iterable:\n",
        "\n",
        "my_list = [1, 2, 3]\n",
        "\n",
        "for item in my_list:\n",
        "    print(item)"
      ],
      "metadata": {
        "colab": {
          "base_uri": "https://localhost:8080/"
        },
        "id": "OBfDCb_JKjs-",
        "outputId": "70dd546d-8a12-4829-98aa-eeb2ccbdd594"
      },
      "execution_count": null,
      "outputs": [
        {
          "output_type": "stream",
          "name": "stdout",
          "text": [
            "1\n",
            "2\n",
            "3\n"
          ]
        }
      ]
    },
    {
      "cell_type": "code",
      "source": [
        "# Using a string as an iterable:\n",
        "\n",
        "my_string = \"hello\"\n",
        "\n",
        "for char in my_string:\n",
        "    print(char)"
      ],
      "metadata": {
        "colab": {
          "base_uri": "https://localhost:8080/"
        },
        "id": "6SzRL9PUKkls",
        "outputId": "f8be55f6-c706-4be1-cf76-29050a8bc8ee"
      },
      "execution_count": null,
      "outputs": [
        {
          "output_type": "stream",
          "name": "stdout",
          "text": [
            "h\n",
            "e\n",
            "l\n",
            "l\n",
            "o\n"
          ]
        }
      ]
    },
    {
      "cell_type": "code",
      "source": [
        "# Creating a custom iterable object:\n",
        "\n",
        "class MyRange:\n",
        "    def __init__(self, start, end):\n",
        "        self.start = start\n",
        "        self.end = end\n",
        "\n",
        "    def __iter__(self):\n",
        "        current = self.start\n",
        "        while current < self.end:\n",
        "            yield current\n",
        "            current += 1\n",
        "\n",
        "my_range = MyRange(1, 4)\n",
        "\n",
        "for item in my_range:\n",
        "    print(item)"
      ],
      "metadata": {
        "colab": {
          "base_uri": "https://localhost:8080/"
        },
        "id": "63vN2HyyKkYa",
        "outputId": "c0ee3ca9-b52d-428c-93c4-46b209d1c37e"
      },
      "execution_count": null,
      "outputs": [
        {
          "output_type": "stream",
          "name": "stdout",
          "text": [
            "1\n",
            "2\n",
            "3\n"
          ]
        }
      ]
    },
    {
      "cell_type": "markdown",
      "source": [
        "In this example, we create a custom MyRange class that generates a sequence of numbers from start to end-1. We implement the __iter__() method as a generator function to make our class iterable. We can then create an instance of our class and use it as an iterable in a for loop. The for loop automatically creates an iterator from our object and uses it to loop over the values."
      ],
      "metadata": {
        "id": "LsFAdI-ULEuO"
      }
    },
    {
      "cell_type": "markdown",
      "source": [
        "## **The yield Statement:**\n",
        "Generators are created using a special type of function called a generator function. A generator function is defined like a normal function, but instead of using the return keyword to return a value, it uses the yield keyword. When a generator function is called, it returns a generator object that can be iterated over.\n",
        "\n",
        "Here’s an example of a simple generator function that generates the first n numbers:"
      ],
      "metadata": {
        "id": "2pgmMIfRNhW3"
      }
    },
    {
      "cell_type": "code",
      "source": [
        "def first_n_numbers(n):\n",
        "    i = 0\n",
        "    while i < n:\n",
        "        yield i\n",
        "        i += 1\n",
        "\n",
        "gen = first_n_numbers(5)\n",
        "for i in gen:\n",
        "    print(i)"
      ],
      "metadata": {
        "id": "TBP4k-hBODe4",
        "colab": {
          "base_uri": "https://localhost:8080/"
        },
        "outputId": "0be8dd85-0a88-448b-c33b-59a026018112"
      },
      "execution_count": null,
      "outputs": [
        {
          "output_type": "stream",
          "name": "stdout",
          "text": [
            "0\n",
            "1\n",
            "2\n",
            "3\n",
            "4\n"
          ]
        }
      ]
    },
    {
      "cell_type": "markdown",
      "source": [
        "In this example, the first_n_numbers function is a generator function that takes an argument n and generates the first n numbers. When we call this function with an argument of 5, it returns a generator object that generates the numbers 0 to 4. We can then iterate over this generator object using a for loop to print each number.\n",
        "\n",
        "Generators are useful because they allow you to create large iterables without using up a lot of memory. Since generators generate each value on-the-fly as you iterate over them, they only need to store one value at a time in memory."
      ],
      "metadata": {
        "id": "kntUboVFOPxl"
      }
    },
    {
      "cell_type": "markdown",
      "source": [
        "### **Pipelining of Generators:**\n",
        "Multiple generators can be used to pipeline a series of operations. This is best illustrated using an example.\n",
        "\n",
        "Suppose we have a generator that produces the numbers in the Fibonacci series. And we have another generator for squaring numbers.\n",
        "\n",
        "If we want to find out the sum of squares of numbers in the Fibonacci series, we can do it in the following way by pipelining the output of generator functions together."
      ],
      "metadata": {
        "id": "fQMeqBlj8Xlt"
      }
    },
    {
      "cell_type": "code",
      "source": [
        "def fibonacci_numbers(nums):\n",
        "    x, y = 0, 1\n",
        "    for _ in range(nums):\n",
        "        x, y = y, x+y\n",
        "        yield x\n",
        "\n",
        "def square(nums):\n",
        "    for num in nums:\n",
        "        yield num**2\n",
        "\n",
        "print(sum(square(fibonacci_numbers(10))))\n",
        "\n",
        "# Output: 4895"
      ],
      "metadata": {
        "colab": {
          "base_uri": "https://localhost:8080/"
        },
        "id": "ygoI3bv_8XSf",
        "outputId": "f6c3ec27-5d12-45ac-a2ed-041bcb65aabb"
      },
      "execution_count": null,
      "outputs": [
        {
          "output_type": "stream",
          "name": "stdout",
          "text": [
            "4895\n"
          ]
        }
      ]
    },
    {
      "cell_type": "code",
      "source": [
        "# Write a generator expression that generates the first n prime numbers\n",
        "\n",
        "def primes(n):\n",
        "    # Define a nested function to check if a number is prime\n",
        "    def is_prime(num):\n",
        "        if num < 2:\n",
        "            return False\n",
        "        for i in range(2, int(num ** 0.5) + 1):\n",
        "            if num % i == 0:\n",
        "                return False\n",
        "        return True\n",
        "\n",
        "    # Initialize the current number and count of prime numbers generated\n",
        "    num = 2\n",
        "    count = 0\n",
        "\n",
        "    # Generate prime numbers until n prime numbers have been generated\n",
        "    while count < n:\n",
        "        if is_prime(num):\n",
        "            yield num\n",
        "            count += 1\n",
        "        num += 1\n",
        "n = primes(10)\n",
        "for i in n:\n",
        "  print(i)\n"
      ],
      "metadata": {
        "colab": {
          "base_uri": "https://localhost:8080/"
        },
        "id": "T2JjPkv57vnW",
        "outputId": "3d86bef5-6fff-45a5-9559-bf9f80611eba"
      },
      "execution_count": null,
      "outputs": [
        {
          "output_type": "stream",
          "name": "stdout",
          "text": [
            "2\n",
            "3\n",
            "5\n",
            "7\n",
            "11\n",
            "13\n",
            "17\n",
            "19\n",
            "23\n",
            "29\n"
          ]
        }
      ]
    },
    {
      "cell_type": "code",
      "source": [
        "# Write a generator function that generates all the permutations of a given list of items\n",
        "\n",
        "def permutations(items):\n",
        "    # Base case: if there are no items, there is only one permutation (the empty list)\n",
        "    if len(items) == 0:\n",
        "        yield []\n",
        "    else:\n",
        "        # Recursive case: generate all permutations by selecting each item as the first item and permuting the remaining items\n",
        "        for i in range(len(items)):\n",
        "            rest = items[:i] + items[i+1:]\n",
        "            for p in permutations(rest):\n",
        "                yield [items[i]] + p\n",
        "per = permutations([1, 1, 5])\n",
        "for i in per:\n",
        "  print(i)"
      ],
      "metadata": {
        "colab": {
          "base_uri": "https://localhost:8080/"
        },
        "id": "QlBEDcj1AAC7",
        "outputId": "db7e445d-133d-400e-e048-81032577c62f"
      },
      "execution_count": null,
      "outputs": [
        {
          "output_type": "stream",
          "name": "stdout",
          "text": [
            "[1, 1, 5]\n",
            "[1, 5, 1]\n",
            "[1, 1, 5]\n",
            "[1, 5, 1]\n",
            "[5, 1, 1]\n",
            "[5, 1, 1]\n"
          ]
        }
      ]
    },
    {
      "cell_type": "code",
      "source": [
        "# Code for unique permutations\n",
        "\n",
        "# from collections import Counter\n",
        "\n",
        "# def unique_permutations(items):\n",
        "#     def _unique_permutations(counter, prefix):\n",
        "#         if len(prefix) == len(items):\n",
        "#             yield tuple(prefix)\n",
        "#         else:\n",
        "#             for item in counter:\n",
        "#                 if counter[item] > 0:\n",
        "#                     counter[item] -= 1\n",
        "#                     yield from _unique_permutations(counter, prefix + [item])\n",
        "#                     counter[item] += 1\n",
        "\n",
        "#     counter = Counter(items)\n",
        "#     yield from _unique_permutations(counter, [])\n",
        "\n",
        "def unique_permutations(items):\n",
        "    if len(items) == 0:\n",
        "        yield []\n",
        "    else:\n",
        "        seen = set()\n",
        "        for i in range(len(items)):\n",
        "            if items[i] not in seen:\n",
        "                seen.add(items[i])\n",
        "                rest = items[:i] + items[i+1:]\n",
        "                for p in unique_permutations(rest):\n",
        "                    yield [items[i]] + p\n",
        "\n",
        "for p in unique_permutations([1, 1, 1]):\n",
        "    print(p)"
      ],
      "metadata": {
        "colab": {
          "base_uri": "https://localhost:8080/"
        },
        "id": "xa5rv9-5Dfil",
        "outputId": "79baddac-6da5-40e5-9ee8-ab62a35ebcc2"
      },
      "execution_count": null,
      "outputs": [
        {
          "output_type": "stream",
          "name": "stdout",
          "text": [
            "[1, 1, 1]\n"
          ]
        }
      ]
    },
    {
      "cell_type": "code",
      "source": [
        "# Write a generator function that generates an infinite sequence of random numbers\n",
        "\n",
        "import random\n",
        "\n",
        "def random_numbers():\n",
        "    while True:\n",
        "        # Yield a random number between 0 and 1\n",
        "        yield random.random()\n",
        "\n",
        "r = random_numbers()\n",
        "# Showing only 5 outputs but by using loop you can generate infinite numbers.\n",
        "print(next(r))\n",
        "print(next(r))\n",
        "print(next(r))\n",
        "print(next(r))\n",
        "print(next(r))"
      ],
      "metadata": {
        "colab": {
          "base_uri": "https://localhost:8080/"
        },
        "id": "ib3Dde_-A5M2",
        "outputId": "a20374e0-cf76-4867-e5c7-b0d262cd0a78"
      },
      "execution_count": null,
      "outputs": [
        {
          "output_type": "stream",
          "name": "stdout",
          "text": [
            "0.1268506624886384\n",
            "0.7447766831461547\n",
            "0.4787108861209075\n",
            "0.5976465071567251\n",
            "0.36293576627287427\n"
          ]
        }
      ]
    },
    {
      "cell_type": "markdown",
      "source": [
        "## **Questions For Practice**:\n",
        "1. Write a generator function that generates all the subsets of a given set of items.\n",
        "\n",
        "2. Write a generator function that generates all the combinations of a given length from a given set of items.\n",
        "\n",
        "3. Write a generator function that generates the Cartesian product of two or more iterables.\n",
        "\n",
        "4. Write a generator function that generates the running average of a sequence of numbers.\n",
        "\n",
        "5. Write a generator function that generates the power set of a given set of items."
      ],
      "metadata": {
        "id": "OKzNnAYOE0zA"
      }
    },
    {
      "cell_type": "markdown",
      "source": [
        "# **Dictionary Comprehension**\n",
        "Dictionary comprehension is a concise way to create dictionaries using a single expression. It’s similar to list comprehension, but instead of creating a list, it creates a dictionary.\n",
        "\n",
        "Here are 5 examples of dictionary comprehension:\n"
      ],
      "metadata": {
        "id": "IAv5cYXxk4ny"
      }
    },
    {
      "cell_type": "code",
      "source": [
        "# Creating a dictionary of squares:\n",
        "squares = {x: x*x for x in range(6)}\n",
        "# Output: {0: 0, 1: 1, 2: 4, 3: 9, 4: 16, 5: 25}\n",
        "\n",
        "# Creating a dictionary from two lists:\n",
        "keys = ['a', 'b', 'c']\n",
        "values = [1, 2, 3]\n",
        "my_dict = {k:v for (k,v) in zip(keys, values)}\n",
        "# Output: {'a': 1, 'b': 2, 'c': 3}\n",
        "\n",
        "# Creating a dictionary with conditional logic:\n",
        "numbers = [1, 2, 3, 4, 5]\n",
        "even_squares = {x: x*x for x in numbers if x % 2 == 0}\n",
        "# Output: {2: 4, 4: 16}\n",
        "\n",
        "# Creating a dictionary with nested loops:\n",
        "rows = ['a', 'b', 'c']\n",
        "cols = [1, 2]\n",
        "cell_dict = {(r,c):r+str(c) for r in rows for c in cols}\n",
        "print(cell_dict)\n",
        "# Output: {('a',1):'a1', ('a',2):'a2', ('b',1):'b1', ('b',2):'b2', ('c',1):'c1', ('c',2):'c2'}\n",
        "\n",
        "# Creating a dictionary by transforming the keys and values of another dictionary:\n",
        "original_dict = {'a':1,'b':2,'c':3}\n",
        "new_dict = {k.upper():v*10 for (k,v) in original_dict.items()}\n",
        "# Output: {'A':10,'B':20,'C':30}\n"
      ],
      "metadata": {
        "colab": {
          "base_uri": "https://localhost:8080/"
        },
        "id": "-Xp26TpelO0f",
        "outputId": "310842ca-1529-4047-9f9c-3f36ac050c75"
      },
      "execution_count": null,
      "outputs": [
        {
          "output_type": "stream",
          "name": "stdout",
          "text": [
            "{('a', 1): 'a1', ('a', 2): 'a2', ('b', 1): 'b1', ('b', 2): 'b2', ('c', 1): 'c1', ('c', 2): 'c2'}\n"
          ]
        }
      ]
    },
    {
      "cell_type": "markdown",
      "source": [
        "# **List comprehension**\n",
        "List comprehension is a concise way to create lists using a single expression. It’s a powerful tool that can make your code more readable and efficient.\n",
        "\n",
        "Here are 5 examples of list comprehension:"
      ],
      "metadata": {
        "id": "LBS0rSy6ml43"
      }
    },
    {
      "cell_type": "code",
      "source": [
        "# Creating a list of squares:\n",
        "squares = [x*x for x in range(6)]\n",
        "# Output: [0, 1, 4, 9, 16, 25]\n",
        "\n",
        "# Creating a list from another list:\n",
        "numbers = [1, 2, 3, 4]\n",
        "doubles = [x*2 for x in numbers]\n",
        "# Output: [2, 4, 6, 8]\n",
        "\n",
        "# Creating a list with conditional logic:\n",
        "numbers = [1, 2, 3, 4, 5]\n",
        "evens = [x for x in numbers if x % 2 == 0]\n",
        "# Output: [2, 4]\n",
        "\n",
        "# Creating a list with nested loops:\n",
        "rows = ['a', 'b', 'c']\n",
        "cols = [1, 2]\n",
        "cells = [f'{r}{c}' for r in rows for c in cols]\n",
        "# Output: ['a1', 'a2', 'b1', 'b2', 'c1', 'c2']\n",
        "\n",
        "# Creating a list by transforming the elements of another list:\n",
        "words = ['apple', 'banana', 'cherry']\n",
        "upper_words = [w.upper() for w in words]\n",
        "# Output: ['APPLE', 'BANANA', 'CHERRY']"
      ],
      "metadata": {
        "id": "aSJwa8WkmwsQ"
      },
      "execution_count": null,
      "outputs": []
    },
    {
      "cell_type": "markdown",
      "source": [
        "## **FOR NESTED LIST**"
      ],
      "metadata": {
        "id": "W80vHSEVnIcV"
      }
    },
    {
      "cell_type": "code",
      "source": [
        "# Creating a multiplication table:\n",
        "table = [[x*y for x in range(1, 11)] for y in range(1, 11)]\n",
        "# Output: [[1, 2, 3, 4, 5, 6, 7, 8, 9, 10], [2, 4, 6, 8, 10, 12, 14, 16, 18, 20], ...]\n",
        "\n",
        "# Creating a matrix of zeros:\n",
        "rows = 3\n",
        "cols = 4\n",
        "matrix = [[0 for x in range(cols)] for y in range(rows)]\n",
        "# Output: [[0, 0, 0, 0], [0, 0, 0, 0], [0, 0, 0, 0]]\n",
        "\n",
        "# Transposing a matrix:\n",
        "matrix = [[1,2],[3,4],[5,6]]\n",
        "transpose = [[row[i] for row in matrix] for i in range(len(matrix[0]))]\n",
        "# Output: [[1,3,5],[2,4,6]]\n",
        "\n",
        "# Flattening a nested list:\n",
        "nested_list = [[1,2],[3],[4,[5]]]\n",
        "flat_list = [x for sublist in nested_list for x in sublist]\n",
        "# Output: [1,2,3,[4,[5]]]\n",
        "\n",
        "# Creating a Pascal’s triangle:\n",
        "n = 5\n",
        "pascal = [[int(i==j or not j) for j in range(i+1)] for i in range(n)]\n",
        "for i in range(2,n):\n",
        "    for j in range(1,i):\n",
        "        pascal[i][j] = pascal[i-1][j-1]+pascal[i-1][j]\n",
        "# Output: [[1], [1,1], [1,2,1], [1,3,3,1], [1,4,6,4,1]]"
      ],
      "metadata": {
        "id": "ur9A0OVenNdr"
      },
      "execution_count": null,
      "outputs": []
    },
    {
      "cell_type": "markdown",
      "source": [
        "# **Questions For Practice**\n",
        "5 conceptual coding practice questions for list and dictionary comprehension:\n",
        "\n",
        "1. Write a list comprehension that generates all prime numbers less than n.\n",
        "2. Write a dictionary comprehension that maps each word in a list of words to its length.\n",
        "3. Write a list comprehension that generates all Pythagorean triples with values less than n.\n",
        "4. Write a dictionary comprehension that maps each character in a string to the number of times it appears in the string.\n",
        "5. Write a list comprehension that generates all permutations of a given list of elements"
      ],
      "metadata": {
        "id": "8SKUhHV17YUu"
      }
    }
  ]
}