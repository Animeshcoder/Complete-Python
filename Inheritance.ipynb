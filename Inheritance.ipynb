{
  "nbformat": 4,
  "nbformat_minor": 0,
  "metadata": {
    "colab": {
      "provenance": [],
      "authorship_tag": "ABX9TyOPH2ki2l0gB3UCP1LAj48/",
      "include_colab_link": true
    },
    "kernelspec": {
      "name": "python3",
      "display_name": "Python 3"
    },
    "language_info": {
      "name": "python"
    }
  },
  "cells": [
    {
      "cell_type": "markdown",
      "metadata": {
        "id": "view-in-github",
        "colab_type": "text"
      },
      "source": [
        "<a href=\"https://colab.research.google.com/github/Animeshcoder/Complete-Python/blob/main/Inheritance.ipynb\" target=\"_parent\"><img src=\"https://colab.research.google.com/assets/colab-badge.svg\" alt=\"Open In Colab\"/></a>"
      ]
    },
    {
      "cell_type": "markdown",
      "source": [
        "# **Inheritance**\n",
        "Inheritance is a fundamental concept in object-oriented programming that allows you to create a new class that reuses, extends, and modifies the behavior defined in another class. The class that is being inherited from is called the base class or superclass, and the class that inherits from the base class is called the derived class or subclass."
      ],
      "metadata": {
        "id": "-39e6KYJT7BZ"
      }
    },
    {
      "cell_type": "code",
      "source": [
        "# Single Inheritance:\n",
        "\n",
        "# Single inheritance is when a class inherits from a single base class.\n",
        "\n",
        "class Parent:\n",
        "    def __init__(self):\n",
        "        self.parent_attribute = \"Parent Attribute\"\n",
        "\n",
        "    def parent_method(self):\n",
        "        print(\"Parent Method\")\n",
        "\n",
        "class Child(Parent):\n",
        "    def __init__(self):\n",
        "        super().__init__()\n",
        "        self.child_attribute = \"Child Attribute\"\n",
        "\n",
        "    def child_method(self):\n",
        "        print(\"Child Method\")\n",
        "\n",
        "child = Child()\n",
        "child.parent_method()\n",
        "child.child_method()"
      ],
      "metadata": {
        "colab": {
          "base_uri": "https://localhost:8080/"
        },
        "id": "-T9PV0LXULLC",
        "outputId": "393644d8-884b-4085-aac2-a65085cdec4b"
      },
      "execution_count": null,
      "outputs": [
        {
          "output_type": "stream",
          "name": "stdout",
          "text": [
            "Parent Method\n",
            "Child Method\n"
          ]
        }
      ]
    },
    {
      "cell_type": "markdown",
      "source": [
        "In Python, **super()** is used to call a method from a parent class. It is used to call the constructor of the parent class and to access its methods and properties. When you use **super()**, you don’t need to specify the parent class name to access its methods. It can be used in both single and multiple inheritances.\n",
        "\n",
        "Here is an example of using super() to access both methods and attributes from a parent class in Python:"
      ],
      "metadata": {
        "id": "f0fiJm7nibRu"
      }
    },
    {
      "cell_type": "code",
      "source": [
        "class Parent:\n",
        "    def __init__(self, name, id):\n",
        "        self.name = name\n",
        "        self.id = id\n",
        "\n",
        "    def display(self):\n",
        "        print(self.name, self.id)\n",
        "\n",
        "class Child(Parent):\n",
        "    def __init__(self, name, id):\n",
        "        super().__init__(name, id)\n",
        "\n",
        "    def print(self):\n",
        "        print(\"Child class called\")\n",
        "        super().display()\n",
        "\n",
        "child = Child(\"Mayank\", 103)\n",
        "child.print()"
      ],
      "metadata": {
        "colab": {
          "base_uri": "https://localhost:8080/"
        },
        "id": "e6-_RORKi1Ya",
        "outputId": "663f29ad-23aa-459f-e821-2fe166fbf7c0"
      },
      "execution_count": null,
      "outputs": [
        {
          "output_type": "stream",
          "name": "stdout",
          "text": [
            "Child class called\n",
            "Mayank 103\n"
          ]
        }
      ]
    },
    {
      "cell_type": "markdown",
      "source": [
        "In this example, the Child class inherits from the Parent class. The Child class uses \n",
        "\n",
        "```\n",
        "super().__init__(name, id)\n",
        "```\n",
        " to call the constructor of the Parent class and initialize its attributes. The Child class also uses \n",
        "\n",
        "\n",
        "```\n",
        " super().display() \n",
        "```\n",
        " to call the display() method of the Parent class."
      ],
      "metadata": {
        "id": "PLTNisUbi5W0"
      }
    },
    {
      "cell_type": "code",
      "source": [
        "# Multiple Inheritance:\n",
        "\n",
        "# Multiple inheritance is when a class inherits from multiple base classes.\n",
        "\n",
        "class Parent1:\n",
        "    def __init__(self):\n",
        "        self.parent1_attribute = \"Parent1 Attribute\"\n",
        "\n",
        "    def parent1_method(self):\n",
        "        print(\"Parent1 Method\")\n",
        "\n",
        "class Parent2:\n",
        "    def __init__(self):\n",
        "        self.parent2_attribute = \"Parent2 Attribute\"\n",
        "\n",
        "    def parent2_method(self):\n",
        "        print(\"Parent2 Method\")\n",
        "\n",
        "class Child(Parent1, Parent2):\n",
        "    def __init__(self):\n",
        "        super().__init__()\n",
        "        self.child_attribute = \"Child Attribute\"\n",
        "\n",
        "    def child_method(self):\n",
        "        print(\"Child Method\")\n",
        "\n",
        "child = Child()\n",
        "child.parent1_method()\n",
        "child.parent2_method()\n",
        "child.child_method()"
      ],
      "metadata": {
        "colab": {
          "base_uri": "https://localhost:8080/"
        },
        "id": "aDr9nm8IUQxk",
        "outputId": "21cbc5af-f767-4670-beed-77b70aaad6fe"
      },
      "execution_count": null,
      "outputs": [
        {
          "output_type": "stream",
          "name": "stdout",
          "text": [
            "Parent1 Method\n",
            "Parent2 Method\n",
            "Child Method\n"
          ]
        }
      ]
    },
    {
      "cell_type": "markdown",
      "source": [
        "## **MRO**\n",
        "MRO stands for Method Resolution Order. It is the order in which Python looks for a method in a class hierarchy. MRO is mainly useful in the case of inheritance to look for a method in the parent classes. In Python, MRO defines the order in which the base classes are searched when executing a method. First, the method or attribute is searched within a class and then it follows the order specified while inheriting. This order is also called Linearization of a class and the set of rules are called MRO.\n",
        "\n",
        "Here is an Example:"
      ],
      "metadata": {
        "id": "b4NrEooW7CoR"
      }
    },
    {
      "cell_type": "code",
      "source": [
        "class A:\n",
        "    def foo(self):\n",
        "        print(\"called A.foo()\")\n",
        "\n",
        "\n",
        "class B(A):\n",
        "    pass\n",
        "\n",
        "\n",
        "class C(A):\n",
        "    def foo(self):\n",
        "        print(\"called C.foo()\")\n",
        "\n",
        "\n",
        "class D(B, C):\n",
        "    pass\n",
        "\n",
        "\n",
        "class E(C, B):\n",
        "    pass\n",
        "\n",
        "\n",
        "d = D()\n",
        "d.foo()\n",
        "\n",
        "e = E()\n",
        "e.foo()"
      ],
      "metadata": {
        "colab": {
          "base_uri": "https://localhost:8080/"
        },
        "id": "rla58LA57GIl",
        "outputId": "d5df9548-5cd5-4d82-9a30-2a1ee824f813"
      },
      "execution_count": null,
      "outputs": [
        {
          "output_type": "stream",
          "name": "stdout",
          "text": [
            "called C.foo()\n",
            "called C.foo()\n"
          ]
        }
      ]
    },
    {
      "cell_type": "markdown",
      "source": [
        "In this example, we have five classes: A, B, C, D, and E. Classes B and C both inherit from class A, class D inherits from both B and C, and class E inherits from both C and B. Classes A and C provide their own implementation of the foo method.\n",
        "\n",
        "When we create an object of class D and call its foo method, Python uses MRO to determine which implementation of the foo method to call. In this case, the MRO for class D is [D, B, C, A], which means that Python will first look for the foo method in class D, then in class B, then in class C, and finally in class A.\n",
        "\n",
        "Since classes D and B do not provide their own implementation of the foo method, Python looks for it in class C. Class C provides its own implementation of the foo method, so it is called and the message “called C.foo()” is printed.\n",
        "\n",
        "When we create an object of class E and call its foo method, Python uses MRO to determine which implementation of the foo method to call. In this case, the MRO for class E is [E, C, B, A], which means that Python will first look for the foo method in class E, then in class C, then in class B, and finally in class A.\n",
        "\n",
        "Since class E does not provide its own implementation of the foo method, Python looks for it in class C. Class C provides its own implementation of the `"
      ],
      "metadata": {
        "id": "AaXGqxfw7I5y"
      }
    },
    {
      "cell_type": "markdown",
      "source": [
        "You can access the MRO of a class in Python by using the __mro__ attribute or the mro() method on the class. For example, you can access its MRO like this:"
      ],
      "metadata": {
        "id": "mN9PtGmrklzJ"
      }
    },
    {
      "cell_type": "code",
      "source": [
        "E.__mro__\n",
        "# or\n",
        "E.mro()"
      ],
      "metadata": {
        "colab": {
          "base_uri": "https://localhost:8080/"
        },
        "id": "lhHn1is8korm",
        "outputId": "4584893b-28ae-40c6-f5b7-f806fbbf5aa8"
      },
      "execution_count": null,
      "outputs": [
        {
          "output_type": "execute_result",
          "data": {
            "text/plain": [
              "[__main__.E, __main__.C, __main__.B, __main__.A, object]"
            ]
          },
          "metadata": {},
          "execution_count": 7
        }
      ]
    },
    {
      "cell_type": "code",
      "source": [
        "# Multilevel Inheritance:\n",
        "\n",
        "# Multilevel inheritance is when a class inherits from a base class, which in turn inherits from another base class.\n",
        "\n",
        "class Grandparent:\n",
        "    def __init__(self):\n",
        "        self.grandparent_attribute = \"Grandparent Attribute\"\n",
        "\n",
        "    def grandparent_method(self):\n",
        "        print(\"Grandparent Method\")\n",
        "\n",
        "class Parent(Grandparent):\n",
        "    def __init__(self):\n",
        "        super().__init__()\n",
        "        self.parent_attribute = \"Parent Attribute\"\n",
        "\n",
        "    def parent_method(self):\n",
        "        print(\"Parent Method\")\n",
        "\n",
        "class Child(Parent):\n",
        "    def __init__(self):\n",
        "        super().__init__()\n",
        "        self.child_attribute = \"Child Attribute\"\n",
        "\n",
        "    def child_method(self):\n",
        "        print(\"Child Method\")\n",
        "\n",
        "child = Child()\n",
        "child.grandparent_method()\n",
        "child.parent_method()\n",
        "child.child_method()"
      ],
      "metadata": {
        "colab": {
          "base_uri": "https://localhost:8080/"
        },
        "id": "cUqp7eUJUWwC",
        "outputId": "fb230543-2283-4bdc-8236-12c573b5ee06"
      },
      "execution_count": null,
      "outputs": [
        {
          "output_type": "stream",
          "name": "stdout",
          "text": [
            "Grandparent Method\n",
            "Parent Method\n",
            "Child Method\n"
          ]
        }
      ]
    },
    {
      "cell_type": "code",
      "execution_count": null,
      "metadata": {
        "colab": {
          "base_uri": "https://localhost:8080/"
        },
        "id": "bbPRiS4ZSGL7",
        "outputId": "7a6dc794-cdbd-4b9b-db44-b00b01ad87fc"
      },
      "outputs": [
        {
          "output_type": "stream",
          "name": "stdout",
          "text": [
            "Parent Method\n",
            "Child1 Method\n",
            "Parent Method\n",
            "Child2 Method\n"
          ]
        }
      ],
      "source": [
        "\n",
        "# Hierarchical Inheritance:\n",
        "\n",
        "# Hierarchical inheritance is when multiple classes inherit from the same base class.\n",
        "\n",
        "class Parent:\n",
        "    def __init__(self):\n",
        "        self.parent_attribute = \"Parent Attribute\"\n",
        "\n",
        "    def parent_method(self):\n",
        "        print(\"Parent Method\")\n",
        "\n",
        "class Child1(Parent):\n",
        "    def __init__(self):\n",
        "        super().__init__()\n",
        "        self.child1_attribute = \"Child1 Attribute\"\n",
        "\n",
        "    def child1_method(self):\n",
        "        print(\"Child1 Method\")\n",
        "\n",
        "class Child2(Parent):\n",
        "    def __init__(self):\n",
        "        super().__init__()\n",
        "        self.child2_attribute = \"Child2 Attribute\"\n",
        "\n",
        "    def child2_method(self):\n",
        "        print(\"Child2 Method\")\n",
        "\n",
        "child1 = Child1()\n",
        "child1.parent_method()\n",
        "child1.child1_method()\n",
        "\n",
        "child2 = Child2()\n",
        "child2.parent_method()\n",
        "child2.child2_method()"
      ]
    },
    {
      "cell_type": "markdown",
      "source": [
        "## **Examples For better Understanding:**"
      ],
      "metadata": {
        "id": "OajjXhmulh4b"
      }
    },
    {
      "cell_type": "code",
      "source": [
        "class A:\n",
        "     def __init__(self):\n",
        "         self.__i = 1\n",
        "         self.j = 5\n",
        " \n",
        "     def display(self):\n",
        "         print(self.__i, self.j)\n",
        "class B(A):\n",
        "     def __init__(self):\n",
        "         super().__init__()\n",
        "         self.__i = 2\n",
        "         self.j = 7  \n",
        "c = B()\n",
        "c.display()"
      ],
      "metadata": {
        "colab": {
          "base_uri": "https://localhost:8080/"
        },
        "id": "K9_G7Aaplum4",
        "outputId": "7fe2ce81-2aea-4762-c0f0-40362f7ce560"
      },
      "execution_count": null,
      "outputs": [
        {
          "output_type": "stream",
          "name": "stdout",
          "text": [
            "1 7\n"
          ]
        }
      ]
    },
    {
      "cell_type": "code",
      "source": [
        "class A:\n",
        "    def __init__(self,x):\n",
        "        self.x = x\n",
        "    def count(self,x):\n",
        "        self.x = self.x+1\n",
        "class B(A):\n",
        "    def __init__(self, y=0):\n",
        "        A.__init__(self, 3)\n",
        "        self.y = y\n",
        "    def count(self):\n",
        "        self.y += 1     \n",
        "def main():\n",
        "    obj = B()\n",
        "    obj.count()\n",
        "    print(obj.x, obj.y)\n",
        "main()"
      ],
      "metadata": {
        "colab": {
          "base_uri": "https://localhost:8080/"
        },
        "id": "vFu0U6NWmLYV",
        "outputId": "80def911-6534-4447-ed1f-40a2a9b02a75"
      },
      "execution_count": null,
      "outputs": [
        {
          "output_type": "stream",
          "name": "stdout",
          "text": [
            "3 1\n"
          ]
        }
      ]
    },
    {
      "cell_type": "code",
      "source": [
        "class A:\n",
        "    def test1(self):\n",
        "        print(\" test of A called \")\n",
        "class B(A):\n",
        "    def test(self):\n",
        "        print(\" test of B called \")\n",
        "class C(A):\n",
        "    def test(self):\n",
        "        print(\" test of C called \")\n",
        "class D(B,C):\n",
        "    def test2(self):\n",
        "        print(\" test of D called \")        \n",
        "obj=D()\n",
        "obj.test()"
      ],
      "metadata": {
        "colab": {
          "base_uri": "https://localhost:8080/"
        },
        "id": "zdKC3Z1BmLBu",
        "outputId": "8d42fd32-8a33-4607-e6cc-fd47e0628208"
      },
      "execution_count": null,
      "outputs": [
        {
          "output_type": "stream",
          "name": "stdout",
          "text": [
            " test of B called \n"
          ]
        }
      ]
    },
    {
      "cell_type": "code",
      "source": [
        "class Class5:\n",
        "    def m(self):\n",
        "        print(\"In Class5\")\n",
        "\n",
        "class Class1(Class5):\n",
        "    def m(self):\n",
        "        print(\"In Class1\")\n",
        "        super().m()\n",
        " \n",
        "class Class2(Class1):\n",
        "    def m(self):\n",
        "        print(\"In Class2\")\n",
        "        super().m()\n",
        " \n",
        "class Class3(Class5):\n",
        "    def m(self):\n",
        "        print(\"In Class3\")\n",
        "        super().m()\n",
        " \n",
        "class Class4(Class2, Class3):\n",
        "    def m(self):\n",
        "        print(\"In Class4\")  \n",
        "        super().m()\n",
        "      \n",
        "obj = Class4()\n",
        "obj.m()"
      ],
      "metadata": {
        "colab": {
          "base_uri": "https://localhost:8080/"
        },
        "id": "qSqt1eHnnWBd",
        "outputId": "d29ca746-aa69-4b23-b976-5d1bf209d785"
      },
      "execution_count": null,
      "outputs": [
        {
          "output_type": "stream",
          "name": "stdout",
          "text": [
            "In Class4\n",
            "In Class2\n",
            "In Class1\n",
            "In Class3\n",
            "In Class5\n"
          ]
        }
      ]
    },
    {
      "cell_type": "markdown",
      "source": [
        "## **Questions For Practice**:\n",
        "1. Create a class Vehicle with methods drive and stop. Create a subclass Car that inherits from Vehicle and overrides the drive method to print “Driving a car”.\n",
        "\n",
        "2. Create a class Person with attributes name and age. Create a subclass Employee that inherits from Person and adds an attribute salary. Override the \n",
        "\n",
        "```\n",
        "__str__\n",
        "``` \n",
        "method in both classes to return a string representation of the object.\n",
        "\n",
        "3. Create an abstract base class Shape with abstract methods area and perimeter. Create subclasses Rectangle, Circle, and Triangle that inherit from Shape and implement the area and perimeter methods to return the correct values for each shape. Create a list of shapes and calculate the total area and perimeter of all shapes in the list.\n",
        "\n",
        "4. Create a class Animal with a method make_sound that prints “Animal sound”. Create subclasses Dog, Cat, and Bird that inherit from Animal and override the make_sound method to print the appropriate sound for each animal. Create a list of animals and call the make_sound method for each animal in the list."
      ],
      "metadata": {
        "id": "SP9Sqg0RnXae"
      }
    }
  ]
}