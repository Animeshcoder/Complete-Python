{
  "nbformat": 4,
  "nbformat_minor": 0,
  "metadata": {
    "colab": {
      "provenance": [],
      "authorship_tag": "ABX9TyMIbseUOHbqOiwq6dNWt1aK",
      "include_colab_link": true
    },
    "kernelspec": {
      "name": "python3",
      "display_name": "Python 3"
    },
    "language_info": {
      "name": "python"
    }
  },
  "cells": [
    {
      "cell_type": "markdown",
      "metadata": {
        "id": "view-in-github",
        "colab_type": "text"
      },
      "source": [
        "<a href=\"https://colab.research.google.com/github/Animeshcoder/Complete-Python/blob/main/Abstraction_And_Polymorphism.ipynb\" target=\"_parent\"><img src=\"https://colab.research.google.com/assets/colab-badge.svg\" alt=\"Open In Colab\"/></a>"
      ]
    },
    {
      "cell_type": "markdown",
      "source": [
        "# **Abstraction And Polymorphism**\n",
        "Abstraction and polymorphism are two important concepts in object-oriented programming. Abstraction refers to the process of hiding unnecessary details and exposing only the necessary information to the user. Polymorphism, on the other hand, refers to the ability of a single type entity (method, operator, or object) to represent different types in different scenarios.\n",
        "\n",
        "Here’s an example that shows the difference between abstraction and polymorphism in Python:"
      ],
      "metadata": {
        "id": "IPyKPz9J2-Mo"
      }
    },
    {
      "cell_type": "code",
      "execution_count": null,
      "metadata": {
        "colab": {
          "base_uri": "https://localhost:8080/"
        },
        "id": "y-ZNdFy62ztG",
        "outputId": "afa3e1cc-f32c-459b-ef77-f41bcfc1c4b4"
      },
      "outputs": [
        {
          "output_type": "stream",
          "name": "stdout",
          "text": [
            "6\n",
            "78.5\n",
            "16\n"
          ]
        }
      ],
      "source": [
        "# Abstraction: Shape is an abstract class with an abstract method area()\n",
        "class Shape:\n",
        "    def area(self):\n",
        "        pass\n",
        "\n",
        "# Polymorphism: Rectangle is a subclass of Shape that overrides the area() method\n",
        "class Rectangle(Shape):\n",
        "    def __init__(self, width, height):\n",
        "        self.width = width\n",
        "        self.height = height\n",
        "\n",
        "    def area(self):\n",
        "        return self.width * self.height\n",
        "\n",
        "# Polymorphism: Circle is a subclass of Shape that overrides the area() method\n",
        "class Circle(Shape):\n",
        "    def __init__(self, radius):\n",
        "        self.radius = radius\n",
        "\n",
        "    def area(self):\n",
        "        return 3.14 * self.radius * self.radius\n",
        "\n",
        "shapes = [Rectangle(2, 3), Circle(5), Rectangle(4, 4)]\n",
        "for shape in shapes:\n",
        "    # Polymorphism: calling the area() method on different types of shapes\n",
        "    print(shape.area())"
      ]
    },
    {
      "cell_type": "markdown",
      "source": [
        "In this example, we define an abstract class Shape with an abstract method area(). This is an example of abstraction because we are hiding the implementation details of how the area is calculated and exposing only the necessary information (the area() method) to the user.\n",
        "\n",
        "We then create two subclasses Rectangle and Circle that inherit from Shape and override the area() method. This is an example of polymorphism because we are using a single type entity (the area() method) to represent different types (the Rectangle and Circle classes) in different scenarios."
      ],
      "metadata": {
        "id": "amSP4eti28wK"
      }
    },
    {
      "cell_type": "markdown",
      "source": [
        "## **Polymorphism for methods** :\n",
        "This is called method overriding.\n",
        "\n",
        "Here’s an example of how to use polymorphism in a class:"
      ],
      "metadata": {
        "id": "mM7FG3gv7zeQ"
      }
    },
    {
      "cell_type": "code",
      "source": [
        "class Animal:\n",
        "    def __init__(self, name):\n",
        "        self.name = name\n",
        "\n",
        "    def speak(self):\n",
        "        raise NotImplementedError(\"Subclass must implement abstract method\")\n",
        "\n",
        "class Dog(Animal):\n",
        "    def speak(self):\n",
        "        return self.name + \" says Woof!\"\n",
        "\n",
        "class Cat(Animal):\n",
        "    def speak(self):\n",
        "        return self.name + \" says Meow!\"\n",
        "\n",
        "animals = [Dog('Rufus'), Cat('Whiskers'), Dog('Buddy')]\n",
        "for animal in animals:\n",
        "    print(animal.speak())"
      ],
      "metadata": {
        "colab": {
          "base_uri": "https://localhost:8080/"
        },
        "id": "Ad51ciVM8S33",
        "outputId": "642a965a-42f1-4d52-e79d-1ec71b09fe98"
      },
      "execution_count": null,
      "outputs": [
        {
          "output_type": "stream",
          "name": "stdout",
          "text": [
            "Rufus says Woof!\n",
            "Whiskers says Meow!\n",
            "Buddy says Woof!\n"
          ]
        }
      ]
    },
    {
      "cell_type": "markdown",
      "source": [
        "In this example, we have an abstract class Animal with an abstract method speak(). We then create two subclasses Dog and Cat that inherit from Animal and override the speak() method. We then create a list of animals and iterate over them, calling the speak() method on each one."
      ],
      "metadata": {
        "id": "o4-OxUG39V-G"
      }
    },
    {
      "cell_type": "markdown",
      "source": [
        "## **Operator Overloading**:\n",
        "Operator overloading is a type of polymorphism in which the same operator performs various operations depending on the operands. In Python, we can overload operators by defining special methods in our classes. These methods have names that start and end with double underscores, such as \n",
        "\n",
        "```\n",
        "__add__\n",
        "```\n",
        "for the + operator.\n",
        "\n",
        "Here’s an example of how to use operator overloading in a class:"
      ],
      "metadata": {
        "id": "MeeF5qEf9kzk"
      }
    },
    {
      "cell_type": "code",
      "source": [
        "class Complex:\n",
        "    def __init__(self, real, imag):\n",
        "        self.real = real\n",
        "        self.imag = imag\n",
        "\n",
        "    def __add__(self, other):\n",
        "        return Complex(self.real + other.real, self.imag + other.imag)\n",
        "\n",
        "    def __str__(self):\n",
        "        return f\"{self.real} + {self.imag}i\"\n",
        "\n",
        "c1 = Complex(1, 2)\n",
        "c2 = Complex(3, 4)\n",
        "print(c1 + c2)"
      ],
      "metadata": {
        "colab": {
          "base_uri": "https://localhost:8080/"
        },
        "id": "L6KErglD9-pQ",
        "outputId": "d0b6fe74-d357-40a6-97eb-5611e0c96af3"
      },
      "execution_count": null,
      "outputs": [
        {
          "output_type": "stream",
          "name": "stdout",
          "text": [
            "4 + 6i\n"
          ]
        }
      ]
    },
    {
      "cell_type": "markdown",
      "source": [
        "### **A More Complex Example Of Operator Overloading For More Methods:**"
      ],
      "metadata": {
        "id": "nq3dIxT7-H1K"
      }
    },
    {
      "cell_type": "code",
      "source": [
        "class Vector:\n",
        "    def __init__(self, x, y):\n",
        "        self.x = x\n",
        "        self.y = y\n",
        "\n",
        "    # Overloading the + operator for adding two vectors or a vector and a scalar\n",
        "    def __add__(self, other):\n",
        "        if isinstance(other, Vector):\n",
        "            return Vector(self.x + other.x, self.y + other.y)\n",
        "        elif isinstance(other, (int, float)):\n",
        "            return Vector(self.x + other, self.y + other)\n",
        "        else:\n",
        "            raise TypeError(f\"unsupported operand type(s) for +: 'Vector' and '{type(other).__name__}'\")\n",
        "\n",
        "    # Overloading the + operator for adding a scalar and a vector\n",
        "    def __radd__(self, other):\n",
        "        return self + other\n",
        "\n",
        "    # Overloading the - operator for subtracting two vectors or a vector and a scalar\n",
        "    def __sub__(self, other):\n",
        "        if isinstance(other, Vector):\n",
        "            return Vector(self.x - other.x, self.y - other.y)\n",
        "        elif isinstance(other, (int, float)):\n",
        "            return Vector(self.x - other, self.y - other)\n",
        "        else:\n",
        "            raise TypeError(f\"unsupported operand type(s) for -: 'Vector' and '{type(other).__name__}'\")\n",
        "\n",
        "    # Overloading the - operator for subtracting a vector from a scalar\n",
        "    def __rsub__(self, other):\n",
        "        if isinstance(other, (int, float)):\n",
        "            return Vector(other - self.x, other - self.y)\n",
        "        else:\n",
        "            raise TypeError(f\"unsupported operand type(s) for -: '{type(other).__name__}' and 'Vector'\")\n",
        "\n",
        "    # Overloading the * operator for multiplying two vectors or a vector and a scalar\n",
        "    def __mul__(self, other):\n",
        "        if isinstance(other, Vector):\n",
        "            return self.x * other.x + self.y * other.y\n",
        "        elif isinstance(other, (int, float)):\n",
        "            return Vector(self.x * other, self.y * other)\n",
        "        else:\n",
        "            raise TypeError(f\"unsupported operand type(s) for *: 'Vector' and '{type(other).__name__}'\")\n",
        "\n",
        "    # Overloading the * operator for multiplying a scalar and a vector\n",
        "    def __rmul__(self, other):\n",
        "        return self * other\n",
        "\n",
        "    def __str__(self):\n",
        "        return f\"({self.x}, {self.y})\""
      ],
      "metadata": {
        "id": "JHeUJhho-GVn"
      },
      "execution_count": null,
      "outputs": []
    },
    {
      "cell_type": "code",
      "source": [
        "v1 = Vector(1, 2)\n",
        "v2 = Vector(3, 4)\n",
        "\n",
        "# Adding two vectors\n",
        "print(v1 + v2) # (4, 6)\n",
        "\n",
        "# Adding a vector and a scalar\n",
        "print(v1 + 5) # (6, 7)\n",
        "\n",
        "# Adding a scalar and a vector\n",
        "print(5 + v1) # (6, 7)\n",
        "\n",
        "# Subtracting two vectors\n",
        "print(v1 - v2) # (-2, -2)\n",
        "\n",
        "# Subtracting a scalar from a vector\n",
        "print(v1 - 5) # (-4, -3)\n",
        "\n",
        "# Subtracting a vector from a scalar\n",
        "print(5 - v1) # (4, 3)\n",
        "\n",
        "# Multiplying two vectors\n",
        "print(v1 * v2) # 11\n",
        "\n",
        "# Multiplying a vector by a scalar\n",
        "print(v1 * 5) # (5, 10)\n",
        "\n",
        "# Multiplying a scalar by a vector\n",
        "print(5 * v1) # (5, 10)"
      ],
      "metadata": {
        "colab": {
          "base_uri": "https://localhost:8080/"
        },
        "id": "NSXeLQLEGJh2",
        "outputId": "db5b691e-db59-4e8d-fb2c-cea60d62d050"
      },
      "execution_count": null,
      "outputs": [
        {
          "output_type": "stream",
          "name": "stdout",
          "text": [
            "(4, 6)\n",
            "(6, 7)\n",
            "(6, 7)\n",
            "(-2, -2)\n",
            "(-4, -3)\n",
            "(4, 3)\n",
            "11\n",
            "(5, 10)\n",
            "(5, 10)\n"
          ]
        }
      ]
    },
    {
      "cell_type": "markdown",
      "source": [
        "### **Duck Typing**:\n",
        "Duck typing is a programming concept used in dynamic languages like Python. It allows for more flexibility in the types of objects that can be used in a particular operation. Instead of checking the type of an object, the behavior or methods of the object are checked. The name comes from the phrase “If it looks like a duck, swims like a duck, and quacks like a duck, then it probably is a duck.”"
      ],
      "metadata": {
        "id": "Zo4X9ZWzs3YK"
      }
    },
    {
      "cell_type": "code",
      "source": [
        "class Duck:\n",
        "    def quack(self):\n",
        "        print(\"Quack, quack!\")\n",
        "\n",
        "    def fly(self):\n",
        "        print(\"Flap, Flap!\")\n",
        "\n",
        "\n",
        "class Person:\n",
        "    def quack(self):\n",
        "        print(\"I'm Quacking Like a Duck!\")\n",
        "\n",
        "    def fly(self):\n",
        "        print(\"I'm Flapping my Arms!\")\n",
        "\n",
        "\n",
        "def quack_and_fly(thing):\n",
        "    # Not Duck-Typed (Non-Pythonic)\n",
        "    if isinstance(thing, Duck):\n",
        "        thing.quack()\n",
        "        thing.fly()\n",
        "    else:\n",
        "        print(\"This has to be a Duck!\")\n",
        "\n",
        "    print()\n",
        "\n",
        "    # Duck-Typed (Pythonic)\n",
        "    thing.quack()\n",
        "    thing.fly()\n",
        "\n",
        "\n",
        "d = Duck()\n",
        "quack_and_fly(d)\n",
        "\n",
        "p = Person()\n",
        "quack_and_fly(p)"
      ],
      "metadata": {
        "colab": {
          "base_uri": "https://localhost:8080/"
        },
        "id": "E2tpp-5BtFF8",
        "outputId": "c6b8804d-d23a-49ea-b5ef-8a15a1b20ee0"
      },
      "execution_count": null,
      "outputs": [
        {
          "output_type": "stream",
          "name": "stdout",
          "text": [
            "Quack, quack!\n",
            "Flap, Flap!\n",
            "\n",
            "Quack, quack!\n",
            "Flap, Flap!\n",
            "This has to be a Duck!\n",
            "\n",
            "I'm Quacking Like a Duck!\n",
            "I'm Flapping my Arms!\n"
          ]
        }
      ]
    },
    {
      "cell_type": "markdown",
      "source": [
        "In this example, we have two classes: Duck and Person. Both classes have methods quack and fly. We also have a function quack_and_fly that takes an object as an argument. This function first checks if the object is an instance of the Duck class and if it is, calls its quack and fly methods. Otherwise, it prints “This has to be a Duck!”.\n",
        "\n",
        "However, this is not duck-typed (non-Pythonic) because it checks the type of the object instead of its behavior. The second part of the function is duck-typed (Pythonic) because it calls the quack and fly methods on the object without checking its type.\n",
        "\n",
        "When we call quack_and_fly with a Duck object, both parts of the function work as expected. However, when we call it with a Person object, only the second (duck-typed) part works as expected."
      ],
      "metadata": {
        "id": "0OTh56f5tF7U"
      }
    },
    {
      "cell_type": "markdown",
      "source": [
        "### **More Examples For Better Understanding**:"
      ],
      "metadata": {
        "id": "i6KTyMoWOezn"
      }
    },
    {
      "cell_type": "code",
      "source": [
        "class A:\n",
        "    def __str__(self):\n",
        "        return '1'\n",
        "class B(A):\n",
        "    def __init__(self):\n",
        "        super().__init__()\n",
        "class C(B):\n",
        "    def __init__(self):\n",
        "        super().__init__()\n",
        "def main():\n",
        "    obj1 = B()\n",
        "    obj2 = A()\n",
        "    obj3 = C()\n",
        "    print(obj1, obj2,obj3)\n",
        "main()"
      ],
      "metadata": {
        "colab": {
          "base_uri": "https://localhost:8080/"
        },
        "id": "B8XSswMyPjju",
        "outputId": "40b2a985-7781-447b-9706-a3ad298a57b7"
      },
      "execution_count": null,
      "outputs": [
        {
          "output_type": "stream",
          "name": "stdout",
          "text": [
            "1 1 1\n"
          ]
        }
      ]
    },
    {
      "cell_type": "code",
      "source": [
        "class Demo:\n",
        "    def __init__(self):\n",
        "        self.x = 1\n",
        "    def change(self):\n",
        "        self.x = 10\n",
        "class Demo_derived(Demo):\n",
        "    def change(self):\n",
        "        self.x=self.x+1\n",
        "        return self.x\n",
        "def main():\n",
        "    obj = Demo_derived()\n",
        "    print(obj.change())\n",
        " \n",
        "main()"
      ],
      "metadata": {
        "colab": {
          "base_uri": "https://localhost:8080/"
        },
        "id": "0LSqqGJlQKDh",
        "outputId": "bdd8f2fc-28f5-4566-8b73-a44fbb7201c7"
      },
      "execution_count": null,
      "outputs": [
        {
          "output_type": "stream",
          "name": "stdout",
          "text": [
            "2\n"
          ]
        }
      ]
    },
    {
      "cell_type": "code",
      "source": [
        "class A:\n",
        "    def __init__(self):\n",
        "        self.multiply(15)\n",
        "        print(self.i)\n",
        " \n",
        "    def multiply(self, i):\n",
        "        self.i = 4 * i;\n",
        "class B(A):\n",
        "    def __init__(self):\n",
        "        super().__init__()\n",
        " \n",
        "    def multiply(self, i):\n",
        "        self.i = 2 * i;\n",
        "obj = B()"
      ],
      "metadata": {
        "colab": {
          "base_uri": "https://localhost:8080/"
        },
        "id": "OvDtAQoXQSy-",
        "outputId": "b8e05694-601d-480f-aaf0-d5180707ad64"
      },
      "execution_count": null,
      "outputs": [
        {
          "output_type": "stream",
          "name": "stdout",
          "text": [
            "30\n"
          ]
        }
      ]
    },
    {
      "cell_type": "code",
      "source": [
        "class Demo:\n",
        "    def __check(self):\n",
        "        return \" Demo's check \"\n",
        "    def display(self):\n",
        "        print(self.check())\n",
        "class Demo_Derived(Demo):\n",
        "    def __check(self):\n",
        "        return \" Derived's check \"\n",
        "Demo().display()\n",
        "Demo_Derived().display()"
      ],
      "metadata": {
        "colab": {
          "base_uri": "https://localhost:8080/",
          "height": 339
        },
        "id": "2oi8aHnPQafi",
        "outputId": "e81d2b46-1ed1-477a-c719-97ba8f40a409"
      },
      "execution_count": null,
      "outputs": [
        {
          "output_type": "error",
          "ename": "AttributeError",
          "evalue": "ignored",
          "traceback": [
            "\u001b[0;31m---------------------------------------------------------------------------\u001b[0m",
            "\u001b[0;31mAttributeError\u001b[0m                            Traceback (most recent call last)",
            "\u001b[0;32m<ipython-input-12-c636eb39f9f3>\u001b[0m in \u001b[0;36m<cell line: 9>\u001b[0;34m()\u001b[0m\n\u001b[1;32m      7\u001b[0m     \u001b[0;32mdef\u001b[0m \u001b[0m__check\u001b[0m\u001b[0;34m(\u001b[0m\u001b[0mself\u001b[0m\u001b[0;34m)\u001b[0m\u001b[0;34m:\u001b[0m\u001b[0;34m\u001b[0m\u001b[0;34m\u001b[0m\u001b[0m\n\u001b[1;32m      8\u001b[0m         \u001b[0;32mreturn\u001b[0m \u001b[0;34m\" Derived's check \"\u001b[0m\u001b[0;34m\u001b[0m\u001b[0;34m\u001b[0m\u001b[0m\n\u001b[0;32m----> 9\u001b[0;31m \u001b[0mDemo\u001b[0m\u001b[0;34m(\u001b[0m\u001b[0;34m)\u001b[0m\u001b[0;34m.\u001b[0m\u001b[0mdisplay\u001b[0m\u001b[0;34m(\u001b[0m\u001b[0;34m)\u001b[0m\u001b[0;34m\u001b[0m\u001b[0;34m\u001b[0m\u001b[0m\n\u001b[0m\u001b[1;32m     10\u001b[0m \u001b[0mDemo_Derived\u001b[0m\u001b[0;34m(\u001b[0m\u001b[0;34m)\u001b[0m\u001b[0;34m.\u001b[0m\u001b[0mdisplay\u001b[0m\u001b[0;34m(\u001b[0m\u001b[0;34m)\u001b[0m\u001b[0;34m\u001b[0m\u001b[0;34m\u001b[0m\u001b[0m\n",
            "\u001b[0;32m<ipython-input-12-c636eb39f9f3>\u001b[0m in \u001b[0;36mdisplay\u001b[0;34m(self)\u001b[0m\n\u001b[1;32m      3\u001b[0m         \u001b[0;32mreturn\u001b[0m \u001b[0;34m\" Demo's check \"\u001b[0m\u001b[0;34m\u001b[0m\u001b[0;34m\u001b[0m\u001b[0m\n\u001b[1;32m      4\u001b[0m     \u001b[0;32mdef\u001b[0m \u001b[0mdisplay\u001b[0m\u001b[0;34m(\u001b[0m\u001b[0mself\u001b[0m\u001b[0;34m)\u001b[0m\u001b[0;34m:\u001b[0m\u001b[0;34m\u001b[0m\u001b[0;34m\u001b[0m\u001b[0m\n\u001b[0;32m----> 5\u001b[0;31m         \u001b[0mprint\u001b[0m\u001b[0;34m(\u001b[0m\u001b[0mself\u001b[0m\u001b[0;34m.\u001b[0m\u001b[0mcheck\u001b[0m\u001b[0;34m(\u001b[0m\u001b[0;34m)\u001b[0m\u001b[0;34m)\u001b[0m\u001b[0;34m\u001b[0m\u001b[0;34m\u001b[0m\u001b[0m\n\u001b[0m\u001b[1;32m      6\u001b[0m \u001b[0;32mclass\u001b[0m \u001b[0mDemo_Derived\u001b[0m\u001b[0;34m(\u001b[0m\u001b[0mDemo\u001b[0m\u001b[0;34m)\u001b[0m\u001b[0;34m:\u001b[0m\u001b[0;34m\u001b[0m\u001b[0;34m\u001b[0m\u001b[0m\n\u001b[1;32m      7\u001b[0m     \u001b[0;32mdef\u001b[0m \u001b[0m__check\u001b[0m\u001b[0;34m(\u001b[0m\u001b[0mself\u001b[0m\u001b[0;34m)\u001b[0m\u001b[0;34m:\u001b[0m\u001b[0;34m\u001b[0m\u001b[0;34m\u001b[0m\u001b[0m\n",
            "\u001b[0;31mAttributeError\u001b[0m: 'Demo' object has no attribute 'check'"
          ]
        }
      ]
    },
    {
      "cell_type": "markdown",
      "source": [
        "### **Questions For Practice**:"
      ],
      "metadata": {
        "id": "nJRrh7IUQkOx"
      }
    },
    {
      "cell_type": "markdown",
      "source": [
        "Here are some new coding questions that you can practice to improve your understanding of polymorphism in Python:\n",
        "\n",
        "1. Write a Python program that defines a BankAccount class with methods for depositing and withdrawing money. Then, define two subclasses CheckingAccount and SavingsAccount that inherit from BankAccount and override the methods for depositing and withdrawing money. The CheckingAccount class should allow unlimited deposits and withdrawals, while the SavingsAccount class should allow only three withdrawals per month.\n",
        "\n",
        "2. Write a Python program that defines a Shape class with methods for calculating the area and perimeter of a shape. Then, define two subclasses Rectangle and Circle that inherit from Shape and override the methods for calculating the area and perimeter. The Rectangle class should take the width and height as arguments, while the Circle class should take the radius as an argument.\n",
        "\n",
        "3. Write a Python program that defines a Person class with methods for getting and setting the person’s name, age, and address. Then, define two subclasses Student and Teacher that inherit from Person and override the methods for getting and setting the person’s name, age, and address. The Student class should also have methods for getting and setting the student’s major and GPA, while the Teacher class should have methods for getting and setting the teacher’s subject and salary."
      ],
      "metadata": {
        "id": "pe6F9BqIRyRJ"
      }
    }
  ]
}